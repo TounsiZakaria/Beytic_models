{
 "cells": [
  {
   "cell_type": "code",
   "execution_count": 2,
   "metadata": {},
   "outputs": [
    {
     "name": "stderr",
     "output_type": "stream",
     "text": [
      "/home/zaki/Desktop/H/beytic/lib/python3.10/site-packages/fuzzywuzzy/fuzz.py:11: UserWarning: Using slow pure-python SequenceMatcher. Install python-Levenshtein to remove this warning\n",
      "  warnings.warn('Using slow pure-python SequenceMatcher. Install python-Levenshtein to remove this warning')\n"
     ]
    }
   ],
   "source": [
    "import matplotlib.pyplot as plt\n",
    "import numpy as np\n",
    "import pandas as pd \n",
    "import time \n",
    "import seaborn as sns\n",
    "import re\n",
    "import json\n",
    "import shapely.geometry as sg\n",
    "#import osmnx as ox\n",
    "#import tabula\n",
    "import geopandas as gpd\n",
    "from shapely import Point, MultiPolygon \n",
    "from shapely.ops import triangulate\n",
    "import random"
   ]
  },
  {
   "cell_type": "markdown",
   "metadata": {},
   "source": [
    "# Clean the data"
   ]
  },
  {
   "cell_type": "markdown",
   "metadata": {},
   "source": [
    "## Read the data"
   ]
  },
  {
   "cell_type": "code",
   "execution_count": 3,
   "metadata": {},
   "outputs": [
    {
     "name": "stderr",
     "output_type": "stream",
     "text": [
      "/tmp/ipykernel_7009/1148631862.py:1: DtypeWarning: Columns (9,14,16,17,18,22,23) have mixed types. Specify dtype option on import or set low_memory=False.\n",
      "  df = pd.read_csv(\"sale_apartments_05_11_2023.csv\")\n"
     ]
    }
   ],
   "source": [
    "df = pd.read_csv(\"sale_apartments_05_11_2023.csv\")\n",
    "#df.sample(2)"
   ]
  },
  {
   "cell_type": "markdown",
   "metadata": {},
   "source": [
    "## Read the Address df "
   ]
  },
  {
   "cell_type": "code",
   "execution_count": 4,
   "metadata": {},
   "outputs": [],
   "source": [
    "gmap_2 = pd.read_csv('sale_apartments_gmap_addresses.csv',usecols=['request_id','query','data_7','coordinate'])"
   ]
  },
  {
   "cell_type": "markdown",
   "metadata": {},
   "source": []
  },
  {
   "cell_type": "markdown",
   "metadata": {},
   "source": [
    "## Transform the column 'prdx_desc', to str type"
   ]
  },
  {
   "cell_type": "code",
   "execution_count": 5,
   "metadata": {},
   "outputs": [],
   "source": [
    "df['prdx_desc'] = df['prdx_desc'].astype(str)"
   ]
  },
  {
   "cell_type": "markdown",
   "metadata": {},
   "source": [
    "## Keep only the rows after 2018"
   ]
  },
  {
   "cell_type": "code",
   "execution_count": 6,
   "metadata": {},
   "outputs": [],
   "source": [
    "# Keep only the anouces after 2018\n",
    "df['year'] = df['prdx_created_at'].astype(str).str.slice(0,4).astype(int)\n",
    "df = df[df['year'] >= 2018]"
   ]
  },
  {
   "cell_type": "markdown",
   "metadata": {},
   "source": [
    "## Iterate throught all choices (returned by google) "
   ]
  },
  {
   "cell_type": "code",
   "execution_count": 7,
   "metadata": {},
   "outputs": [],
   "source": [
    "import pandas as pd\n",
    "import numpy as np\n",
    "from rank_bm25 import BM25Okapi\n",
    "\n",
    "# Function to compute BM25 ranking and return the most similar document's text\n",
    "\n",
    "def get_most_similar_text_bm25(query, documents):\n",
    "    # Ensure all documents are strings\n",
    "    documents = [str(doc) for doc in documents]\n",
    "\n",
    "    # Tokenize the documents\n",
    "    tokenized_docs = [doc.split(\" \") for doc in documents]\n",
    "    bm25 = BM25Okapi(tokenized_docs)\n",
    "    \n",
    "    # Tokenize the query\n",
    "    tokenized_query = query.split(\" \")\n",
    "    \n",
    "    # Get scores for the query against the documents\n",
    "    doc_scores = bm25.get_scores(tokenized_query)\n",
    "    \n",
    "    # Get the index of the highest score\n",
    "    most_similar_doc_index = np.argmax(doc_scores)\n",
    "    \n",
    "    # Return the actual document text that is the best match\n",
    "    return documents[most_similar_doc_index]\n",
    "\n",
    "# Add a 'geo' and 'best match' column to df\n",
    "df['geo'] = None\n",
    "df['best match'] = None\n",
    "df['adr_address_01'] = df['adr_address_01'].astype(str)\n",
    "df['cty_name'] =df['cty_name'].astype(str)\n",
    "df['stt_name'] = df['stt_name'].astype(str)\n",
    "\n",
    "# Iterate over df\n",
    "\n",
    "for idx, row in df.iterrows():\n",
    "    match = row['adr_address_01'] + ', ' + row['cty_name'] + ', ' + row['stt_name']\n",
    "    if (match is None) or pd.isna(row['address_request_id']):\n",
    "        df.at[idx, 'geo'] = np.nan\n",
    "        continue\n",
    "    \n",
    "    filtered_gmap_2 = gmap_2[gmap_2['request_id'] == row['address_request_id']]\n",
    "    \n",
    "    if len(filtered_gmap_2) == 1:\n",
    "        df.at[idx, 'geo'] = filtered_gmap_2['coordinate'].iloc[0]\n",
    "    elif len(filtered_gmap_2) > 1:\n",
    "        most_similar_text = get_most_similar_text_bm25(match, filtered_gmap_2['data_7'].tolist())\n",
    "        matching_rows = filtered_gmap_2[filtered_gmap_2['data_7'] == most_similar_text]\n",
    "        \n",
    "        # Check if there is at least one matching row\n",
    "        if not matching_rows.empty:\n",
    "            match_row = matching_rows.iloc[0]\n",
    "            df.at[idx, 'geo'] = match_row['coordinate']\n",
    "            df.at[idx, 'best match'] = most_similar_text\n",
    "        else:\n",
    "            # Handle the case where no matching row is found\n",
    "            df.at[idx, 'geo'] = np.nan\n",
    "            df.at[idx, 'best match'] = \"No match found\"\n",
    "\n",
    "# At this point, df will have two new columns: 'geo' and 'best match'\n"
   ]
  },
  {
   "cell_type": "markdown",
   "metadata": {},
   "source": [
    "## Imput the values of adr_latitude and adr_longitude, with adr_latitude and adr_longitude of the chosen address"
   ]
  },
  {
   "cell_type": "code",
   "execution_count": 8,
   "metadata": {},
   "outputs": [],
   "source": [
    "for idx, row in df.iterrows():\n",
    "    if not pd.isna(row['geo']):\n",
    "        row['adr_latitude'] = row['geo'][0]\n",
    "        row['adr_longitude'] = row['geo'][1]"
   ]
  },
  {
   "cell_type": "markdown",
   "metadata": {},
   "source": [
    "## Drop the not used columns"
   ]
  },
  {
   "cell_type": "code",
   "execution_count": 9,
   "metadata": {},
   "outputs": [],
   "source": [
    "# drop unwanted columns\n",
    "df.drop(columns=['Unnamed: 0','prdx_name','prdx_ouedkniss_id','anc_price_type',\n",
    "'prdx_accept_exchange','prdx_price_unit','prdx_price_preview','prdx_view_number','prdx_likes_number', 'type','property_payment_conditions'\n",
    ", 'sale_by_real_estate_agent','prdx_created_at','best match','geo'], inplace = True)"
   ]
  },
  {
   "cell_type": "markdown",
   "metadata": {},
   "source": [
    "## Drop the rows that contain more than one apartment"
   ]
  },
  {
   "cell_type": "code",
   "execution_count": 10,
   "metadata": {},
   "outputs": [
    {
     "name": "stderr",
     "output_type": "stream",
     "text": [
      "/tmp/ipykernel_7009/3920668793.py:32: SettingWithCopyWarning: \n",
      "A value is trying to be set on a copy of a slice from a DataFrame\n",
      "\n",
      "See the caveats in the documentation: https://pandas.pydata.org/pandas-docs/stable/user_guide/indexing.html#returning-a-view-versus-a-copy\n",
      "  df.drop(columns=['drop_with_regex'], inplace = True)\n"
     ]
    }
   ],
   "source": [
    "# drop the rows that contain more than one apartment\n",
    "\n",
    "# Function to extract apartment patterns from the description\n",
    "def extract_apartment_patterns(text):\n",
    "    if isinstance(text, str):\n",
    "        patterns = re.findall(r'\\bf[ \\-_]?[\\d]{1,2}\\b', text, flags=re.IGNORECASE)\n",
    "        return patterns\n",
    "    else:\n",
    "        return []\n",
    "\n",
    "df['rooms'] = df['prdx_desc'].apply(extract_apartment_patterns)\n",
    "\n",
    "# Function to determine which rows should be dropped based on the provided criteria\n",
    "def should_drop_with_regex(description, patterns):\n",
    "    keyword_pattern = r\"\\b(?:transform|modif|amenag|aménag)\\b\"\n",
    "    contains_keywords = re.search(keyword_pattern, description, flags=re.IGNORECASE)\n",
    "    \n",
    "    if len(patterns) == 2 and contains_keywords:\n",
    "        return False\n",
    "    elif len(patterns) >= 2:\n",
    "        return True\n",
    "    else:\n",
    "        return False\n",
    "\n",
    "df['drop_with_regex'] = df.apply(lambda row: should_drop_with_regex(str(row['prdx_desc']).lower(), row['rooms']), axis=1)\n",
    "\n",
    "# Remove the rows that meet the criteria for dropping\n",
    "df = df[~df['drop_with_regex']]\n",
    "df.reset_index(drop=True, inplace=True)\n",
    "\n",
    "# drop unwanted columns\n",
    "df.drop(columns=['drop_with_regex'], inplace = True)"
   ]
  },
  {
   "cell_type": "code",
   "execution_count": 11,
   "metadata": {},
   "outputs": [
    {
     "name": "stderr",
     "output_type": "stream",
     "text": [
      "/tmp/ipykernel_7009/1585163280.py:3: SettingWithCopyWarning: \n",
      "A value is trying to be set on a copy of a slice from a DataFrame.\n",
      "Try using .loc[row_indexer,col_indexer] = value instead\n",
      "\n",
      "See the caveats in the documentation: https://pandas.pydata.org/pandas-docs/stable/user_guide/indexing.html#returning-a-view-versus-a-copy\n",
      "  df['rooms'] = df['rooms'].apply(lambda x: x[0] if len(x) == 1 else np.nan )\n"
     ]
    }
   ],
   "source": [
    "# clean the rooms column\n",
    "# transform lists to floats\n",
    "df['rooms'] = df['rooms'].apply(lambda x: x[0] if len(x) == 1 else np.nan )"
   ]
  },
  {
   "cell_type": "markdown",
   "metadata": {},
   "source": [
    "### Extract the size of teh apartment from the description."
   ]
  },
  {
   "cell_type": "code",
   "execution_count": 12,
   "metadata": {},
   "outputs": [],
   "source": [
    "def extract_largest_area_refined(description):\n",
    "    try:\n",
    "        # Initialize variables\n",
    "        largest_area = 0\n",
    "\n",
    "        # If the description is not a string, return 0\n",
    "        if not isinstance(description, str):\n",
    "            return 0\n",
    "\n",
    "        # Replace newline and carriage return characters\n",
    "        description = description.replace('\\n', ' ').replace('\\r', ' ').strip()\n",
    "\n",
    "        # Define regular expression patterns to find area in various formats\n",
    "        area_patterns = [\n",
    "            r'(\\d+[\\.,]?\\d*)\\s*m[²2]',  # 300m2, 108.m2, 200 m²\n",
    "          #  r'(\\d+[\\.,]?\\d*)\\s*m',      # 480 m\n",
    "            r'(\\d+[\\.,]?\\d*)\\s*sqm',    # 200 sqm\n",
    "            r'(\\d+[\\.,]?\\d*)\\s*²',      # 175²\n",
    "            r'(\\d+[\\.,]?\\d*)\\s*m[èeé]tres?\\s*au\\s*carr[éeé]',  # 152 metres au carre\n",
    "            r'(\\d+[\\.,]?\\d*)\\s*m[èeé]tres?\\s*carr[éeés]',      # 120 metre carrés, 155metre carré\n",
    "            r'قدرها\\s*(\\d+[\\.,]?\\d*)\\s*متر',  # مساحة قدرها 385 متر\n",
    "            r'\\s*(\\d+[\\.,]?\\d*)\\s*متر²',\n",
    "            r'\\s*(\\d+[\\.,]?\\d*)\\s*مترًا مربعًا',\n",
    "            r'\\s*(\\d+[\\.,]?\\d*)\\s*متر مربع',\n",
    "            r'\\s*(\\d+[\\.,]?\\d*)\\s*م مربع',\n",
    "            r'\\s*(\\d+[\\.,]?\\d*)\\s*م²',  # المساحة الكلية : 190 م²\n",
    "            r'\\s*(\\d+[\\.,]?\\d*)\\s*م2',\n",
    "            r'مساحة\\s*(\\d+[\\.,]?\\d*)',  # \n",
    "            #r'(\\d+[\\.,]?\\d*)\\s*metres?'  # 497metres\n",
    "        ]\n",
    "\n",
    "        # Search for all area matches\n",
    "        for pattern in area_patterns:\n",
    "            area_matches = re.findall(pattern, description, re.IGNORECASE)\n",
    "            for area_match in area_matches:\n",
    "                area = float(area_match.replace(',', '.'))\n",
    "                largest_area = max(largest_area, area)\n",
    "\n",
    "        return largest_area\n",
    "    except Exception as e:\n",
    "        return np.nan\n",
    "\n",
    "# Apply the extract_area function to create a new column\n",
    "df['size'] = df['prdx_desc'].apply(extract_largest_area_refined)\n",
    "\n",
    "# Fill missing values in \"superficie\" with values from the new column\n",
    "df['superficie'].fillna(df['size'], inplace=True)\n"
   ]
  },
  {
   "cell_type": "code",
   "execution_count": 13,
   "metadata": {},
   "outputs": [],
   "source": [
    "# Drop the missing values of superficie, and greatre than 400, lower than 20\n",
    "df = df.dropna(subset=['superficie'])\n",
    "df['superficie'] = pd.to_numeric(df['superficie'], errors='coerce')\n",
    "df = df[(df['superficie'] <= 400) & (df['superficie'] >= 20)]"
   ]
  },
  {
   "cell_type": "markdown",
   "metadata": {},
   "source": [
    "### Get if the apartment has equiped kitchen"
   ]
  },
  {
   "cell_type": "code",
   "execution_count": 14,
   "metadata": {},
   "outputs": [],
   "source": [
    "search_words = ['cuisine équip',\"cuisine equip\",'cuisine am','cuisine fonctio','cuisine meubl','cuisine tou', 'cuisine toute','مطبخ كامل','مطبخ مجهز']\n",
    "\n",
    "# Create a new column 'garden' with 1 if any search word is found, otherwise 0\n",
    "df['kitchen'] = df['prdx_desc'].str.contains('|'.join(search_words), case=False, regex=True).astype(float)"
   ]
  },
  {
   "cell_type": "markdown",
   "metadata": {},
   "source": [
    "### Get if the apartment has central heating"
   ]
  },
  {
   "cell_type": "code",
   "execution_count": 15,
   "metadata": {},
   "outputs": [],
   "source": [
    "search_words = ['chaudi',\"chod\",'chauffage central','chauffage au sol','radiateur','تدفئة مركزية','تدفئة أرضية']\n",
    "\n",
    "# Create a new column 'garden' with 1 if any search word is found, otherwise 0\n",
    "df['heating'] = df['prdx_desc'].str.contains('|'.join(search_words), case=False, regex=True).astype(float)"
   ]
  },
  {
   "cell_type": "markdown",
   "metadata": {},
   "source": [
    "### Get if the apartment is in a promotion"
   ]
  },
  {
   "cell_type": "code",
   "execution_count": 16,
   "metadata": {},
   "outputs": [],
   "source": [
    "search_words = ['promotion',\"résidence\",'securise','residence','ترقية','إقامة','اقامة']\n",
    "\n",
    "# Create a new column 'garden' with 1 if any search word is found, otherwise 0\n",
    "df['promotion'] = df['prdx_desc'].str.contains('|'.join(search_words), case=False, regex=True).astype(float)"
   ]
  },
  {
   "cell_type": "code",
   "execution_count": 17,
   "metadata": {},
   "outputs": [],
   "source": [
    "df['asset_in_promotional_site'] = df['asset_in_promotional_site'].astype(float)"
   ]
  },
  {
   "cell_type": "code",
   "execution_count": 18,
   "metadata": {},
   "outputs": [],
   "source": [
    "# fill the missing values of the column 'asset_in_promotional_site' with the values of the column 'promotion'.\n",
    "df['asset_in_promotional_site'].fillna(df['promotion'], inplace=True)\n",
    "\n",
    "\n",
    "# Drop the temporary \"extracted_area\" column if no longer needed\n",
    "df.drop(columns=['promotion'], inplace=True)"
   ]
  },
  {
   "cell_type": "code",
   "execution_count": 19,
   "metadata": {},
   "outputs": [
    {
     "data": {
      "text/plain": [
       "\"# Create a mapping dictionary\\npromotion_mapping = {True: 1, False: 0}\\n\\n# Replace values in the 'asset_in_promotional_site' column using the mapping\\ndf['asset_in_promotional_site'] = df['asset_in_promotional_site'].replace(promotion_mapping)\""
      ]
     },
     "execution_count": 19,
     "metadata": {},
     "output_type": "execute_result"
    }
   ],
   "source": [
    "\"\"\"# Create a mapping dictionary\n",
    "promotion_mapping = {True: 1, False: 0}\n",
    "\n",
    "# Replace values in the 'asset_in_promotional_site' column using the mapping\n",
    "df['asset_in_promotional_site'] = df['asset_in_promotional_site'].replace(promotion_mapping)\"\"\""
   ]
  },
  {
   "cell_type": "markdown",
   "metadata": {},
   "source": [
    "### Get if the apartment is secured"
   ]
  },
  {
   "cell_type": "code",
   "execution_count": 20,
   "metadata": {},
   "outputs": [],
   "source": [
    "search_words = ['sécurisé',\"sécurise\",'securise','gardien','clôturée','clôtur','clotur','surveillance','contrôlé','controlé','contrôle','controle','أمن'\n",
    "                ,'حراسة','مغلق','حارس']\n",
    "\n",
    "# Create a new column 'garden' with 1 if any search word is found, otherwise 0\n",
    "df['secured'] = df['prdx_desc'].str.contains('|'.join(search_words), case=False, regex=True).astype(float)"
   ]
  },
  {
   "cell_type": "markdown",
   "metadata": {},
   "source": [
    "### Get if the apartment has a parking."
   ]
  },
  {
   "cell_type": "code",
   "execution_count": 21,
   "metadata": {},
   "outputs": [
    {
     "data": {
      "text/plain": [
       "\"search_words = ['Garage']\\n\\n# Create a new column 'garden' with 1 if any search word is found, otherwise 0\\ndf['parking'] = df['property_specifications'].str.contains('|'.join(search_words), case=False, regex=True).astype(float)\""
      ]
     },
     "execution_count": 21,
     "metadata": {},
     "output_type": "execute_result"
    }
   ],
   "source": [
    "\"\"\"search_words = ['Garage']\n",
    "\n",
    "# Create a new column 'garden' with 1 if any search word is found, otherwise 0\n",
    "df['parking'] = df['property_specifications'].str.contains('|'.join(search_words), case=False, regex=True).astype(float)\"\"\""
   ]
  },
  {
   "cell_type": "code",
   "execution_count": 22,
   "metadata": {},
   "outputs": [],
   "source": [
    "# create a list of words to check\n",
    "#stationnement|box|parking|voiture|garage|سيارات|باركينغ|مرآب|جراج|ركن\n",
    "words = ['box', 'garage','جراج','مرآب'] # 'parking', 'voiture','باركينغ','سيارات'\n",
    "\n",
    "# join the words with a logical OR\n",
    "pattern = '|'.join(words)\n",
    "\n",
    "# check if the 'prdx_desc' column contains any of the words\n",
    "mask = df['prdx_desc'].str.contains(pattern, case=False,regex=True)\n",
    "df.loc[mask, 'parking'] = 1\n",
    "df['parking'] = df['parking'].fillna(0)"
   ]
  },
  {
   "cell_type": "markdown",
   "metadata": {},
   "source": [
    "### Get if the apartment has agrden"
   ]
  },
  {
   "cell_type": "code",
   "execution_count": 23,
   "metadata": {},
   "outputs": [],
   "source": [
    "# Words to search for\n",
    "\n",
    "search_words = ['garden', 'jar']\n",
    "\n",
    "# Create a new column 'garden' with 1 if any search word is found, otherwise 0\n",
    "df['garden'] = df['property_specifications'].str.contains('|'.join(search_words), case=False, regex=True).astype(float)"
   ]
  },
  {
   "cell_type": "code",
   "execution_count": 24,
   "metadata": {},
   "outputs": [],
   "source": [
    "# create a list of words to check\n",
    "words = ['حديقة صغيرة', 'حديقة خاصة', 'Terrasse', 'Cours priv', 'Loggia', 'veronda', 'jard']\n",
    "\n",
    "# join the words with a logical OR\n",
    "pattern = '|'.join(words)\n",
    "\n",
    "# check if the 'prdx_desc' column contains any of the words\n",
    "mask = df['prdx_desc'].str.contains(pattern, case=False,regex=True)\n",
    "# assign 1 to the 'garden' column where mask is True\n",
    "df.loc[mask, 'garden'] = 1\n",
    "df['garden'] = df['garden'].fillna(0)"
   ]
  },
  {
   "cell_type": "markdown",
   "metadata": {},
   "source": [
    "### Get if the apartment is Fournished or not"
   ]
  },
  {
   "cell_type": "code",
   "execution_count": 25,
   "metadata": {},
   "outputs": [],
   "source": [
    "# Words to search for\n",
    "\n",
    "search_words = ['fournish', 'meubl']\n",
    "\n",
    "# Create a new column 'garden' with 1 if any search word is found, otherwise 0\n",
    "df['fournished'] = df['property_specifications'].str.contains('|'.join(search_words), case=False, regex=True).astype(float)"
   ]
  },
  {
   "cell_type": "code",
   "execution_count": 26,
   "metadata": {},
   "outputs": [],
   "source": [
    "# create a list of words to check\n",
    "words = ['Meublé moderne', 'Entièrement meublé', 'Entierement meublé', 'Entièrement meuble', \n",
    "'Entierement meuble','Aménagé','Aménage','Amenagé','Amenage','Prêt à vivre','مفروش','مجهزة كليا','جاهز للسكن','مهيأ']\n",
    "\n",
    "# join the words with a logical OR\n",
    "pattern = '|'.join(words)\n",
    "\n",
    "# check if the 'prdx_desc' column contains any of the words\n",
    "mask = df['prdx_desc'].str.contains(pattern, case=False,regex=True)\n",
    "df.loc[mask, 'fournished'] = 1\n",
    "df['fournished'] = df['fournished'].fillna(0)"
   ]
  },
  {
   "cell_type": "markdown",
   "metadata": {},
   "source": [
    "### Get the papes"
   ]
  },
  {
   "cell_type": "code",
   "execution_count": 27,
   "metadata": {},
   "outputs": [],
   "source": [
    "# Function to determine the value for the 'papers' column based on 'property_specifications'\n",
    "def determine_paper_value(specifications):\n",
    "    if pd.isna(specifications):\n",
    "        return \"No\"\n",
    "    \n",
    "    acte_notarie = \"Acte notarié\" in specifications\n",
    "    livret_foncier = \"Livret foncier\" in specifications\n",
    "    promesse_vente = 'Promesse de vente possible' in specifications\n",
    "    permi_construire = 'construire' in specifications\n",
    "\n",
    "    if acte_notarie and livret_foncier:\n",
    "        return \"AL\"    \n",
    "    elif acte_notarie:\n",
    "        return \"A\"\n",
    "    else: return \"No\"    \n",
    "    \"\"\"elif livret_foncier:\n",
    "        return \"L\"\n",
    "    elif promesse_vente:\n",
    "        return \"P\"\n",
    "    elif permi_construire:\n",
    "        return \"C\"    \n",
    "    else:\n",
    "        return \"No\"\"\"\n",
    "\n",
    "# Apply the function to the 'property_specifications' column to create the 'papers' column\n",
    "df['ownership'] = df['property_specifications'].apply(determine_paper_value)"
   ]
  },
  {
   "cell_type": "code",
   "execution_count": 28,
   "metadata": {},
   "outputs": [],
   "source": [
    "def determine_paper_english(specifications):\n",
    "    if pd.isna(specifications):\n",
    "        return \"No\"\n",
    "    \n",
    "    acte_notarie = \"notarial-act\" in specifications\n",
    "    livret_foncier = \"real-estate-booklet\" in specifications\n",
    "    promotion = 'real-estate-promotion' in specifications\n",
    "    permi_construire = 'construction-autorisation' in specifications\n",
    "    decision = \"decision\" in specifications\n",
    "    papies_tembre = 'stamped-paper'  in specifications\n",
    "\n",
    "    if acte_notarie and livret_foncier:\n",
    "        return \"AL\"    \n",
    "    elif acte_notarie:\n",
    "        return \"A\"\n",
    "    else: return 'No'    \n",
    "    \"\"\"elif livret_foncier:\n",
    "        return \"L\"\n",
    "    elif promotion:\n",
    "        return \"PR\"\n",
    "    elif permi_construire:\n",
    "        return \"C\"\n",
    "    elif decision:\n",
    "        return \"DC\"\n",
    "    elif papies_tembre:\n",
    "        return \"PT\"            \n",
    "    else:\n",
    "        return \"No\" \"\"\"\n",
    "\n",
    "# Apply the function to the 'property_specifications' column to create the 'papers' column\n",
    "df['ownership_2'] = df['papers'].apply(determine_paper_english)\n",
    "\n",
    "# imput the No values from column ownership column with values from ownership_2\n",
    "df['ownership'] = df['ownership'].mask(df['ownership'] == 'No', df['ownership_2'])\n",
    "\n",
    "df.drop(columns=['ownership_2'], inplace = True)"
   ]
  },
  {
   "cell_type": "markdown",
   "metadata": {},
   "source": [
    "### Define a custom mapping for ownwership"
   ]
  },
  {
   "cell_type": "code",
   "execution_count": 31,
   "metadata": {},
   "outputs": [],
   "source": [
    "# Define the custom mapping for 'ownership'\n",
    "ownership_mapping = {\n",
    "    'AL': 0,\n",
    "    'A': 1,\n",
    "    'No': 2\n",
    "}\n",
    "# Apply label encoding using the custom mapping\n",
    "df['ownership'] = df['ownership'].map(ownership_mapping)"
   ]
  },
  {
   "cell_type": "markdown",
   "metadata": {},
   "source": [
    "### Clean the floor column"
   ]
  },
  {
   "cell_type": "code",
   "execution_count": 32,
   "metadata": {},
   "outputs": [],
   "source": [
    "def get_etage_matching(etage):\n",
    "\n",
    "    etages_matching = {\n",
    "        'rez-de-chaussée': 0,\n",
    "        'rez de chaussée': 0,\n",
    "        'rdc': 0,\n",
    "        'r.d.c': 0,\n",
    "        'rez de chaussée': 0,\n",
    "        'rez de chaussé': 0,\n",
    "        'rez de chausse': 0,\n",
    "        'rez-de-chaussée': 0,\n",
    "        'rez-de-chaussée': 0,\n",
    "        'rez de chausser': 0,\n",
    "        'rez de chaussee': 0,\n",
    "        'rez-de chaussée': 0,\n",
    "        'rdc surélevé': 0,\n",
    "        'rdc surelevé': 0,\n",
    "        'rdc sureleve': 0,\n",
    "        'rez-de-chaussée surélevé': 0,\n",
    "        'rez-de-chaussée élevée': 0,\n",
    "        'rdc sur élevé': 0,\n",
    "        'rdc  surélevé': 0,\n",
    "        'rue de chaussée': 0,\n",
    "        'ritchosi': 0,\n",
    "        'retchose': 0,\n",
    "        'red chosè': 0,\n",
    "        'red chose': 0,\n",
    "        'red de chausse': 0,\n",
    "        're de chausé': 0,\n",
    "        'r chouci': 0,\n",
    "        'r.d.chaussé': 0,\n",
    "        'non elevé':2,\n",
    "        'rc': 0,\n",
    "        'rd': 0,\n",
    "        'ارضي': 0,\n",
    "        'أرضي': 0,\n",
    "        'الأرضي': 0,\n",
    "        'الارضي': 0,\n",
    "        'الطابق الأرضي': 0,\n",
    "        'طابق أرضي': 0,\n",
    "        'الطابق الارضي': 0,\n",
    "        'طابق ارضي': 0,\n",
    "        'طابق الارضي': 0,\n",
    "        'طابق الأرضي': 0,\n",
    "        'rcd': 0,\n",
    "        'rds': 0,\n",
    "        'r+1':2,\n",
    "        'sous sol':0,\n",
    "        'طابقين':2,\n",
    "        '2/6':2,\n",
    "        '4/6':4,\n",
    "        'rechausser':0,\n",
    "        '1/6':1,\n",
    "        'r+3':4,\n",
    "        'أرضي(ريدشوسي)':0,\n",
    "        'السفلي':0,\n",
    "        'rch':0,\n",
    "        '5/6':5,\n",
    "        'Rez de chaussée surélevé':0,\n",
    "        '3/4':3,\n",
    "        'non élevé':1,\n",
    "        'non elevé':2,\n",
    "\n",
    "        '1er': 1,\n",
    "        'الاول': 1,\n",
    "        'لأول': 1,\n",
    "        'الأول': 1,\n",
    "        'الطابق الاول': 1,\n",
    "        'طابق اول': 1,\n",
    "        '1er étage': 1,\n",
    "        '1 er étage': 1,\n",
    "        '1etage': 1,\n",
    "        '1 er': 1,\n",
    "        '1 ere': 1,\n",
    "        '1ere': 1,\n",
    "        '1ère': 1,\n",
    "        '1 étage': 1,\n",
    "        '1 etage': 1,\n",
    "        '1er etage': 1,\n",
    "        '1ere etage': 1,\n",
    "        '1ère étage': 1,\n",
    "        '1ier étage ': 1,\n",
    "        'premier': 1,\n",
    "        'première étage': 1,\n",
    "        'premier étage': 1,\n",
    "        'R+1+TERRASSE':2,\n",
    "        'الخامس5':5,\n",
    "        'riz chausser':0,\n",
    "        'r+2':3,\n",
    "        \n",
    "        'deuxième': 2,\n",
    "        'deuxième étage': 2,\n",
    "        'الثاني': 2,\n",
    "        'طابق الثاني': 2,\n",
    "        'الثانى': 2,\n",
    "        'ثاني': 2,\n",
    "        'الطابق الثاني': 2,\n",
    "        'troisième': 3,\n",
    "        'الثالث': 3,\n",
    "        'الطابق الثالث': 3,\n",
    "        'quatrième': 4,\n",
    "        'quatrième (04) étage': 4,\n",
    "        'الرابع': 4,\n",
    "        'طابق الرابع': 4,\n",
    "        'الطابق الرابع': 4,\n",
    "        'الرابع (4)': 4,\n",
    "        'الخامس': 5,\n",
    "        'طابق خامس': 5,\n",
    "        'السادس': 6,\n",
    "        \n",
    "\n",
    "    }\n",
    "\n",
    "    if type(etage) == str:\n",
    "        try:\n",
    "            m = int(etage)\n",
    "            return m\n",
    "            print('etags', etage ,' ---- ', m)\n",
    "        except Exception as e:\n",
    "            # print('-->', etage)\n",
    "            pass\n",
    "\n",
    "        # print(\"ooozzz\", etage.lower())\n",
    "        matching = etages_matching.get(etage.lower(), None)\n",
    "        # if etage == 'RDC':\n",
    "        #     print('ooooooooooooo', matching)\n",
    "        if matching is None:\n",
    "            for index in range(2, 20):\n",
    "                cases = [\n",
    "                    f'{index}eme',\n",
    "                    f'{index}ème',\n",
    "                    f'{index}èmeétage',\n",
    "                    f'{index}éme',\n",
    "                    f'{index}-ème',\n",
    "                    f'{index}emme',\n",
    "                    f'{index}em',\n",
    "                    f'{index}e',\n",
    "                    f'{index}emeetage',\n",
    "                    f'{index}emeétage',\n",
    "                    f'{index}èmeetage',\n",
    "                    f'{index}emetage',\n",
    "                    f'{index}émeétage',\n",
    "                    f'{index}ièmeetage'\n",
    "                    f'{index}eétage ',\n",
    "                    f'{index}etag',\n",
    "                    f'{index}étage',\n",
    "                    f'{index}etage',\n",
    "                    f'{index}emeétage',\n",
    "                    f'{index}assenseur',\n",
    "                    f'{index}avecascenseur',\n",
    "                    f'{index}ledernier'\n",
    "                ]\n",
    "                if etage.lower().replace(' ', '') in cases:\n",
    "                    return index\n",
    "        return matching if matching is not None else etage\n",
    "    return etage\n",
    "\n",
    "df['etages'] = df['etages'].apply(get_etage_matching)\n",
    "# df = df.loc[(df['etages'].isin(range(0, 20)))]"
   ]
  },
  {
   "cell_type": "code",
   "execution_count": 33,
   "metadata": {},
   "outputs": [],
   "source": [
    "def transform_etage(value):\n",
    "     # Checking if the value is NaN or not a string\n",
    "    if pd.isna(value) or isinstance(value, str):\n",
    "        return '6'\n",
    "    \n",
    "    # Applying transformations based on the instructions\n",
    "    if value in [0, 1]:\n",
    "        return \"1\"\n",
    "    elif value == 2:\n",
    "        return \"2\"\n",
    "    elif value == 3:\n",
    "        return \"3\"\n",
    "    elif value == 4:\n",
    "        return \"4\"\n",
    "    elif 5 <= value <= 20:\n",
    "        return \"5\"\n",
    "    else:\n",
    "        return \"6\"\n",
    "\n",
    "# Applying the transformation function to the 'etages' column\n",
    "df['etages'] = df['etages'].apply(transform_etage)"
   ]
  },
  {
   "cell_type": "markdown",
   "metadata": {},
   "source": [
    "## Clean the price ."
   ]
  },
  {
   "cell_type": "code",
   "execution_count": 34,
   "metadata": {},
   "outputs": [],
   "source": [
    "def further_refined_extract_price(description):\n",
    "    try:\n",
    "        # Initialize variables\n",
    "        highest_custom_price = 0\n",
    "        found_price = False  # Flag to indicate if any price information was found\n",
    "\n",
    "        # If the description is not a string, return 0\n",
    "        if not isinstance(description, str):\n",
    "            return 0\n",
    "\n",
    "        # Replace newline and carriage return characters\n",
    "        description = description.replace('\\n', ' ').replace('\\r', ' ').strip()\n",
    "\n",
    "        # Define regular expression patterns\n",
    "        milliards_pattern = r'(\\d+[\\.,]?\\d*)?\\s*(milliards?|ملايير|مليار|ملير|miliard|u)\\s*(\\d+[\\.,]?\\d*)?'\n",
    "        millions_pattern = r'(\\d+[\\.,]?\\d*)\\s*(millions?|مليون|milion)'\n",
    "        arabic_and_pattern = r'مليار\\s*و\\s*(\\d+[\\.,]?\\d*)\\s*مليون'\n",
    "        arabic_complex_pattern = r'ماديلنا(\\d+[\\.,]?\\d*)مليار'\n",
    "        regular_price_pattern = r'(\\d{1,3}(?:\\.\\d{3})*(?:,\\d{2})?)\\s*(DA|د ج)'\n",
    "        special_price_pattern = r'(\\d{1,3}(?:\\.\\d{3})*\\.\\d{2}(?:,\\d{2})?)\\s*(DA|د ج)'\n",
    "        \n",
    "        # Search for all milliards matches\n",
    "        milliards_matches = re.findall(milliards_pattern, description, re.IGNORECASE)\n",
    "        for milliards_match in milliards_matches:\n",
    "            milliards_before = milliards_match[0]\n",
    "            milliards_after = milliards_match[2]\n",
    "            if milliards_before or milliards_after:\n",
    "                found_price = True  # Found some price information\n",
    "                milliards = 1 if not milliards_before else float(milliards_before.replace(',', '.'))\n",
    "                millions = 0 if not milliards_after else float(milliards_after.replace(',', '.'))\n",
    "                \n",
    "                # Custom conversion\n",
    "                custom_price = int(milliards * 10**7) + int(millions * 10**4)\n",
    "                highest_custom_price = max(highest_custom_price, custom_price)\n",
    "\n",
    "        # Search for all millions matches\n",
    "        millions_matches = re.findall(millions_pattern, description, re.IGNORECASE)\n",
    "        for millions_match in millions_matches:\n",
    "            found_price = True  # Found some price information\n",
    "            millions = float(millions_match[0].replace(',', '.'))\n",
    "            \n",
    "            # Custom conversion\n",
    "            custom_price = int(millions * 10**4)\n",
    "            highest_custom_price = max(highest_custom_price, custom_price)\n",
    "\n",
    "        # Search for the complex Arabic pattern\n",
    "        arabic_and_matches = re.findall(arabic_and_pattern, description, re.IGNORECASE)\n",
    "        for arabic_and_match in arabic_and_matches:\n",
    "            found_price = True  # Found some price information\n",
    "            millions = float(arabic_and_match.replace(',', '.'))\n",
    "            \n",
    "            # Custom conversion\n",
    "            custom_price = int(1 * 10**7) + int(millions * 10**4)\n",
    "            highest_custom_price = max(highest_custom_price, custom_price)\n",
    "\n",
    "        # Search for the additional complex Arabic pattern\n",
    "        arabic_complex_matches = re.findall(arabic_complex_pattern, description, re.IGNORECASE)\n",
    "        for arabic_complex_match in arabic_complex_matches:\n",
    "            found_price = True  # Found some price information\n",
    "            milliards = float(arabic_complex_match.replace(',', '.'))\n",
    "            \n",
    "            # Custom conversion\n",
    "            custom_price = int(milliards * 10**7)\n",
    "            highest_custom_price = max(highest_custom_price, custom_price)\n",
    "\n",
    "        # Search for the regular price patterns\n",
    "        regular_matches = re.search(regular_price_pattern, description, re.IGNORECASE)\n",
    "        if regular_matches:\n",
    "            found_price = True  # Found some price information\n",
    "            captured_price = regular_matches.group(1)\n",
    "            captured_price = captured_price.split(',')[0]  # Removing the part after the comma\n",
    "            captured_price = captured_price.replace('.', '')  # Removing dots\n",
    "            \n",
    "            # Custom conversion\n",
    "            custom_price = int(captured_price)\n",
    "            highest_custom_price = max(highest_custom_price, custom_price)\n",
    "\n",
    "        # Search for the special price patterns\n",
    "        special_matches = re.search(special_price_pattern, description, re.IGNORECASE)\n",
    "        if special_matches:\n",
    "            found_price = True  # Found some price information\n",
    "            captured_price = special_matches.group(1)\n",
    "            captured_price = captured_price.rsplit('.', 1)[0]  # Removing the portion after the last dot\n",
    "            captured_price = captured_price.replace('.', '')  # Removing other dots\n",
    "            \n",
    "            # Custom conversion\n",
    "            custom_price = int(captured_price)\n",
    "            highest_custom_price = max(highest_custom_price, custom_price)\n",
    "\n",
    "        # If no price information was found, return 0\n",
    "        if not found_price:\n",
    "            return 0\n",
    "\n",
    "        return highest_custom_price\n",
    "    except Exception as e:\n",
    "        return 0"
   ]
  },
  {
   "cell_type": "code",
   "execution_count": 35,
   "metadata": {},
   "outputs": [],
   "source": [
    "### Remove the phone numbers from the descriptions"
   ]
  },
  {
   "cell_type": "code",
   "execution_count": 36,
   "metadata": {},
   "outputs": [],
   "source": [
    "def remove_phone_numbers(description):\n",
    "    # Define the regex pattern for phone numbers starting with 05, 06, or 07 and followed by 8 digits\n",
    "    phone_pattern = re.compile(r'\\b0[5-7]\\d{8}\\b')\n",
    "    \n",
    "    # Remove all found phone numbers from the description\n",
    "    modified_description = phone_pattern.sub(\"\", description)\n",
    "    \n",
    "    return modified_description.strip()\n",
    "\n",
    "df['prdx_desc']  =  df['prdx_desc'].apply(remove_phone_numbers)"
   ]
  },
  {
   "cell_type": "code",
   "execution_count": 37,
   "metadata": {},
   "outputs": [],
   "source": [
    "# Apply the extract_area function to create a new column\n",
    "df['extracted_price'] = df['prdx_desc'].apply(extract_largest_area_refined)\n",
    "\n",
    "# Fill missing values in \"superficie\" with values from the new column\n",
    "df['prdx_price'].fillna(df['extracted_price'], inplace=True)\n",
    "\n",
    "# Drop the temporary \"extracted_area\" column if no longer needed\n",
    "df.drop(columns=['extracted_price'], inplace=True)"
   ]
  },
  {
   "cell_type": "code",
   "execution_count": 38,
   "metadata": {},
   "outputs": [],
   "source": [
    "# Dropping rows where \"prdx_price\" is 0, 1, or NaN\n",
    "df = df[~((df['prdx_price'] <= 1) | (df['prdx_price'].isna())|(df['prdx_price'] == 1000)|(df['prdx_price'] == 111))]\n",
    "\n",
    "df = df[~df['prdx_price'].astype(str).str.startswith('1234')]"
   ]
  },
  {
   "cell_type": "markdown",
   "metadata": {},
   "source": [
    "## Drop the rows where positions are not in algeria "
   ]
  },
  {
   "cell_type": "code",
   "execution_count": 39,
   "metadata": {},
   "outputs": [],
   "source": [
    "# Set values outside the range [-90, 90] to np.nan\n",
    "df.loc[(df['adr_longitude'] > 11.933940092022986) | (df['adr_longitude'] < -8.852192525723968), 'adr_longitude'] = np.nan\n",
    "\n",
    "# Set values outside the range [-180, 180] to np.nan\n",
    "df.loc[(df['adr_latitude'] > 37.121046230378255) | (df['adr_latitude'] < 18.96360770273472), 'adr_latitude'] = np.nan"
   ]
  },
  {
   "cell_type": "markdown",
   "metadata": {},
   "source": [
    "### Standardize the cty and state names"
   ]
  },
  {
   "cell_type": "code",
   "execution_count": 40,
   "metadata": {},
   "outputs": [],
   "source": [
    "df['cty_name'] = df['cty_name'].str.replace('gue de constantine',\"djasr kasentina\", case=False)\n",
    "df['cty_name'] = df['cty_name'].str.replace('ain naadja',\"djasr kasentina\", case=False)\n",
    "df['cty_name'] = df['cty_name'].str.replace(\"Said hamdine\",'bir Mourad Rais', case=False)\n",
    "df['cty_name'] = df['cty_name'].str.replace(\"Chevalley\",'bouzareah', case=False)\n",
    "df['cty_name'] = df['cty_name'].str.replace(\"bologhine\",'bulughin', case=False)\n",
    "df['cty_name'] = df['cty_name'].str.replace(\"mahelma\",'mehalma', case=False)\n",
    "df['cty_name'] = df['cty_name'].str.replace(\"é\",\"e\", case=False)\n",
    "df['cty_name'] = df['cty_name'].str.replace(\"barrahel\",\"berrahal\", case=False)\n",
    "df['cty_name'] = df['cty_name'].str.replace(\"mezghrane\",\"Mazagran\", case=False)\n",
    "df['cty_name'] = df['cty_name'].str.replace(\"tassaft ouguemoun\",\"Iboudraren\", case=False)\n",
    "df['cty_name'] = df['cty_name'].str.replace(\"kemir oued adjoul\",\"kheiri oued adjoul\", case=False)\n",
    "df['cty_name'] = df['cty_name'].str.replace(\"Les eucalyptus\",\"eucalyptus\", case=False)\n",
    "df['cty_name'] = df['cty_name'].str.replace(\"Sidi mhamed\",\"sidi m'hamed\", case=False)\n",
    "df['cty_name'] = df['cty_name'].str.replace(\"Hraoua\",\"Heraoua\", case=False)"
   ]
  },
  {
   "cell_type": "markdown",
   "metadata": {},
   "source": [
    "## Drop the rows where adr_latiitude and adr_longitude are not in the correct state  (if they fall in the geometry of the state)"
   ]
  },
  {
   "cell_type": "code",
   "execution_count": 41,
   "metadata": {},
   "outputs": [],
   "source": [
    "import pandas as pd\n",
    "import geopandas as gpd\n",
    "from shapely.geometry import Point\n",
    "from rapidfuzz import process\n",
    "\n",
    "# Load the data\n",
    "ii = pd.read_csv('final_commune_with_prices_10_28.csv')\n",
    "\n",
    "# Convert the geometry column of ii to actual geometry objects\n",
    "ii = gpd.GeoDataFrame(ii, geometry=gpd.GeoSeries.from_wkt(ii['geometry']))\n",
    "\n",
    "def process_row(row):\n",
    "    # Fuzzy match on stt_name using rapidfuzz\n",
    "    matched_state = process.extractOne(row['stt_name'].lower(), ii['stt_name'].str.lower().unique(), score_cutoff=80)\n",
    "    if not matched_state:\n",
    "        return True\n",
    "\n",
    "    state_filtered = ii[ii['stt_name'].str.lower() == matched_state[0].lower()]\n",
    "\n",
    "    # Fuzzy match on cty_name using rapidfuzz\n",
    "    matched_city = process.extractOne(row['cty_name'].lower(), state_filtered['commune_name'].str.lower(), score_cutoff=80)\n",
    "    if not matched_city:\n",
    "        return True\n",
    "\n",
    "    city_row = state_filtered[state_filtered['commune_name'].str.lower() == matched_city[0].lower()].iloc[0]\n",
    "\n",
    "    # Check if the point falls within the polygon\n",
    "    point = Point(row['adr_longitude'], row['adr_latitude'])\n",
    "    if point.within(city_row['geometry']):\n",
    "        return True\n",
    "    else:\n",
    "        return False\n",
    "\n",
    "# Apply the function to each row in iiiii\n",
    "mask = df.apply(process_row, axis=1)\n",
    "df = df[mask]\n",
    "# Drop rows where process_row returned None\n",
    "#filtered_df_4 = filtered_df_4.dropna()\n"
   ]
  },
  {
   "cell_type": "markdown",
   "metadata": {},
   "source": [
    "## Correct the superficie and number of fooms"
   ]
  },
  {
   "cell_type": "code",
   "execution_count": 42,
   "metadata": {},
   "outputs": [],
   "source": [
    "# Function to extract only numbers from the 'rooms' column\n",
    "def extract_numbers_from_rooms(text):\n",
    "    # Ensure the value is a string\n",
    "    if isinstance(text, str):\n",
    "        # Use regular expression to find the first number\n",
    "        numbers = re.findall(r'\\d+', text)\n",
    "        if numbers:\n",
    "            return numbers[0]\n",
    "        else:\n",
    "            return np.nan \n",
    "    else:\n",
    "        return text  # Return the original value for non-string values\n",
    "\n",
    "\n",
    "# Apply the function to the 'rooms' column\n",
    "df['pieces'] = df['pieces'].apply(extract_numbers_from_rooms).astype(float)\n",
    "df['rooms']= df['rooms'].apply(extract_numbers_from_rooms).astype(float)\n",
    "\n",
    "# check for values  bigger than 15 \n",
    "# check for nan values \n",
    "# check for values equal or smaller than 0\n",
    "# ckeck with values with decimals \n",
    "mask = (df['pieces'] > 8) | (df['pieces'].isnull()) | (df['pieces'] <= 0) |(df['pieces'] % 1 != 0) \n",
    "df.loc[mask, 'pieces'] = df.loc[mask, 'rooms']\n",
    "df.loc[(df['pieces'] > 8), 'pieces'] = np.nan"
   ]
  },
  {
   "cell_type": "code",
   "execution_count": 43,
   "metadata": {},
   "outputs": [],
   "source": [
    "# Define the function to calculate bounds using 1×IQR\n",
    "def calculate_bounds_1x(group):\n",
    "    Q1 = group['superficie'].quantile(0.25)\n",
    "    Q3 = group['superficie'].quantile(0.75)\n",
    "    IQR = Q3 - Q1\n",
    "    return Q1 - 1 * IQR, Q3 + 1 * IQR\n",
    "\n",
    "# Define the function to impute 'superficie' or drop the row based on the 'size' value using 1×IQR bounds\n",
    "def impute_or_drop_1x(row):\n",
    "    if pd.isna(row['superficie']) or row['superficie'] < row['lower_bound'] or row['superficie'] > row['upper_bound']:\n",
    "        if row['lower_bound'] <= row['size'] <= row['upper_bound']:\n",
    "            return medians[row['pieces']]\n",
    "        else:\n",
    "            return None\n",
    "    return row['superficie']\n",
    "\n",
    "# Precompute the medians for each category\n",
    "medians = df.groupby('pieces')['superficie'].median()\n",
    "\n",
    "# Applying the 1×IQR rule to calculate bounds for the entire data\n",
    "outlier_bounds = df.groupby('pieces').apply(calculate_bounds_1x).reset_index(name='bounds')\n",
    "outlier_bounds[['lower_bound', 'upper_bound']] = pd.DataFrame(outlier_bounds['bounds'].tolist(), index=outlier_bounds.index)\n",
    "outlier_bounds.drop(columns=['bounds'], inplace=True)\n",
    "\n",
    "# Merging the 1×IQR outlier bounds with the entire data\n",
    "df = pd.merge(df, outlier_bounds, on='pieces', how='left')\n",
    "\n",
    "# Applying the function to the 'superficie' column for imputation or row dropping\n",
    "df['superficie'] = df.apply(impute_or_drop_1x, axis=1)\n",
    "\n",
    "# For rows where 'pieces' is NaN\n",
    "def determine_category(row):\n",
    "    matching_categories = outlier_bounds[\n",
    "        (outlier_bounds['lower_bound'] <= row['superficie']) &\n",
    "        (outlier_bounds['upper_bound'] >= row['superficie'])\n",
    "    ]['pieces'].values\n",
    "    \n",
    "    if len(matching_categories) > 1:\n",
    "        return min(matching_categories, key=lambda cat: abs(medians[cat] - row['superficie']))\n",
    "    elif len(matching_categories) == 1:\n",
    "        return matching_categories[0]\n",
    "    else:\n",
    "        return None\n",
    "\n",
    "df.loc[df['pieces'].isna(), 'pieces'] = df[df['pieces'].isna()].apply(determine_category, axis=1)\n",
    "\n",
    "# Drop rows with None in 'superficie' and the bound columns\n",
    "df.dropna(subset=['superficie'], inplace=True)\n",
    "df.drop(columns=['lower_bound', 'upper_bound'], inplace=True)\n",
    "\n",
    "# Reindex the dataframe\n",
    "df.reset_index(drop=True, inplace=True)\n"
   ]
  },
  {
   "cell_type": "code",
   "execution_count": 44,
   "metadata": {},
   "outputs": [
    {
     "name": "stderr",
     "output_type": "stream",
     "text": [
      "/tmp/ipykernel_7009/1240339270.py:3: FutureWarning: \n",
      "\n",
      "Passing `palette` without assigning `hue` is deprecated and will be removed in v0.14.0. Assign the `x` variable to `hue` and set `legend=False` for the same effect.\n",
      "\n",
      "  sns.boxplot(data=df, x='pieces', y='superficie', palette=\"Set3\")\n"
     ]
    },
    {
     "data": {
      "image/png": "[encoded data removed]",
      "text/plain": [
       "<Figure size 1000x600 with 1 Axes>"
      ]
     },
     "metadata": {},
     "output_type": "display_data"
    }
   ],
   "source": [
    "plt.figure(figsize=(10, 6))\n",
    "sns.set(style=\"whitegrid\")\n",
    "sns.boxplot(data=df, x='pieces', y='superficie', palette=\"Set3\")\n",
    "\n",
    "# Adding labels and title\n",
    "plt.xlabel(\"Pieces Category\")\n",
    "plt.ylabel(\"Superficie\")\n",
    "plt.title(\"Box Plot of Superficie for Each Pieces Category\")\n",
    "\n",
    "# Show the plot\n",
    "plt.tight_layout()\n",
    "plt.show()"
   ]
  },
  {
   "cell_type": "code",
   "execution_count": 45,
   "metadata": {},
   "outputs": [],
   "source": [
    "def iterative_outlier_cleaning(df):\n",
    "    \"\"\"\n",
    "    Iteratively cleans the dataframe by handling 'superficie' outliers for each 'pieces' category.\n",
    "    Continues until no more outliers are detected.\n",
    "    \n",
    "    Args:\n",
    "    - df (pd.DataFrame): The dataframe to be cleaned.\n",
    "    \n",
    "    Returns:\n",
    "    - pd.DataFrame: The cleaned dataframe.\n",
    "    \"\"\"\n",
    "    while True:\n",
    "        # Compute the IQR bounds for each 'pieces' category\n",
    "        outlier_bounds = df.groupby('pieces').apply(calculate_bounds_1x).reset_index(name='bounds')\n",
    "        outlier_bounds[['lower_bound', 'upper_bound']] = pd.DataFrame(outlier_bounds['bounds'].tolist(), index=outlier_bounds.index)\n",
    "        outlier_bounds.drop(columns=['bounds'], inplace=True)\n",
    "\n",
    "        # Join the bounds to the main dataframe\n",
    "        df = pd.merge(df, outlier_bounds, on='pieces', how='left')\n",
    "\n",
    "        # Identify rows with outliers\n",
    "        outlier_mask = (df['superficie'] < df['lower_bound']) | (df['superficie'] > df['upper_bound'])\n",
    "        outliers = df[outlier_mask]\n",
    "\n",
    "        # If no outliers are found, exit the loop\n",
    "        if outliers.shape[0] == 0:\n",
    "            break\n",
    "        \n",
    "        # For rows with outliers, determine the possible categories based on IQR bounds\n",
    "        for idx, row in outliers.iterrows():\n",
    "            matching_categories = outlier_bounds[\n",
    "                (outlier_bounds['lower_bound'] <= row['superficie']) &\n",
    "                (outlier_bounds['upper_bound'] >= row['superficie'])\n",
    "            ]['pieces'].values\n",
    "            \n",
    "            # If the 'superficie' matches multiple categories, choose the one with the closest median\n",
    "            if len(matching_categories) > 1:\n",
    "                chosen_category = min(matching_categories, key=lambda cat: abs(medians[cat] - row['superficie']))\n",
    "                df.at[idx, 'pieces'] = chosen_category\n",
    "            elif len(matching_categories) == 1:\n",
    "                df.at[idx, 'pieces'] = matching_categories[0]\n",
    "            else:\n",
    "                df.at[idx, 'superficie'] = None  # Mark for deletion\n",
    "\n",
    "        # Drop rows marked for deletion\n",
    "        df.dropna(subset=['superficie'], inplace=True)\n",
    "        df.drop(columns=['lower_bound', 'upper_bound'], inplace=True)\n",
    "        df.reset_index(drop=True, inplace=True)\n",
    "    \n",
    "    return df\n",
    "\n",
    "# Precompute the medians for each category before calling the function\n",
    "medians = df.groupby('pieces')['superficie'].median()\n",
    "\n",
    "# Apply the function\n",
    "df = iterative_outlier_cleaning(df)\n"
   ]
  },
  {
   "cell_type": "code",
   "execution_count": 46,
   "metadata": {},
   "outputs": [
    {
     "data": {
      "image/png": "[encoded data removed]",
      "text/plain": [
       "<Figure size 640x480 with 1 Axes>"
      ]
     },
     "metadata": {},
     "output_type": "display_data"
    }
   ],
   "source": [
    "# Create a histogram using Seaborn\n",
    "sns.histplot(data=df, x='pieces', kde=False, color='blue')\n",
    "plt.xlabel('pieces')\n",
    "plt.ylabel('Frequency')\n",
    "plt.title('Histogram of pieces Column')\n",
    "plt.show()"
   ]
  },
  {
   "cell_type": "markdown",
   "metadata": {},
   "source": [
    "### Transform the pieces column"
   ]
  },
  {
   "cell_type": "code",
   "execution_count": 47,
   "metadata": {},
   "outputs": [],
   "source": [
    "# Create a mapping dictionary\n",
    "category_mapping = {1.0: 1, 2.0: 1, 3.0: 2, 4.0:3, 5.0:3, 6.0:3, 7.0:3, 8.0:3}\n",
    "\n",
    "# Replace values in the 'piece' column using the mapping\n",
    "df['pieces'] = df['pieces'].replace(category_mapping)"
   ]
  },
  {
   "cell_type": "markdown",
   "metadata": {},
   "source": [
    "## Clean the price column"
   ]
  },
  {
   "cell_type": "code",
   "execution_count": 48,
   "metadata": {},
   "outputs": [],
   "source": [
    "df_2 = df.copy()"
   ]
  },
  {
   "cell_type": "code",
   "execution_count": 49,
   "metadata": {},
   "outputs": [],
   "source": [
    "# Create 'price_per_meter' column\n",
    "df_2['price_per_meter'] = df_2['prdx_price'] / df_2['superficie']\n",
    "\n",
    "# Define the bounds for each stt_name group\n",
    "bounds = {\n",
    "    'default': {'upper': 120000, 'lower': 40000},\n",
    "    'Algiers': {'upper': 500000, 'lower': 80000},\n",
    "    'specific_cities': {\n",
    "        'names': [\n",
    "            'oran', 'boumerdes', 'blida', 'tipaza', 'tizi ouzou', 'annaba', \n",
    "            'constantine', 'bejaia', 'setif', 'sidi bel abbes','Jijel'\n",
    "        ],\n",
    "        'upper': 190000,\n",
    "        'lower': 60000\n",
    "    }\n",
    "}\n",
    "\n",
    "def adjust_value_limited(row):\n",
    "    #Adjust the price_per_meter value based on the rules provided, with limited iterations.\n",
    "    stt = row['stt_name'].lower()\n",
    "    \n",
    "    # Determine the bounds for the current row\n",
    "    if stt == 'algiers':\n",
    "        upper_bound = bounds['Algiers']['upper']\n",
    "        lower_bound = bounds['Algiers']['lower']\n",
    "    elif stt in bounds['specific_cities']['names']:\n",
    "        upper_bound = bounds['specific_cities']['upper']\n",
    "        lower_bound = bounds['specific_cities']['lower']\n",
    "    else:\n",
    "        upper_bound = bounds['default']['upper']\n",
    "        lower_bound = bounds['default']['lower']\n",
    "\n",
    "    # Adjust the value with a maximum of 10 iterations to prevent infinite loops\n",
    "    val = row['price_per_meter']\n",
    "    original_val = val\n",
    "    iterations = 0\n",
    "    max_iterations = 10000000\n",
    "    while ((val > upper_bound) or (val < lower_bound)) and iterations < max_iterations:\n",
    "        if val > upper_bound:\n",
    "            val /= 10\n",
    "        elif val < lower_bound:\n",
    "            val *= 10\n",
    "\n",
    "        # If value shifts from one boundary to the other, mark for deletion\n",
    "        if (original_val > upper_bound and val < lower_bound) or (original_val < lower_bound and val > upper_bound):\n",
    "            return None\n",
    "\n",
    "        iterations += 1\n",
    "\n",
    "    return val\n",
    "\n",
    "# Apply the function to adjust values\n",
    "df_2['price_per_meter'] = df_2.apply(adjust_value_limited, axis=1)\n",
    "\n",
    "# Remove rows with None values in 'price_per_meter'\n",
    "df_2 = df_2.dropna(subset=['price_per_meter'])\n",
    "\n",
    "# Remove rows with 'superficie' value of 0\n",
    "#price_df = price_df[price_df['superficie'] != 0]\n",
    "\n",
    "# Filter out any rows with NaN or inf values in 'price_per_meter'\n",
    "df_2 = df_2[np.isfinite(df_2['price_per_meter'])]\n",
    "\n",
    "# Round the values in 'price_per_meter' to the nearest integer\n",
    "df_2['price_per_meter'] = df_2['price_per_meter'].round(0).astype(int)"
   ]
  },
  {
   "cell_type": "code",
   "execution_count": 51,
   "metadata": {},
   "outputs": [],
   "source": [
    "# Custom rounding function\n",
    "def custom_round(n):\n",
    "    if n == 0:\n",
    "        return 0\n",
    "    # Determine the magnitude of the number\n",
    "    magnitude = 10 ** (len(str(n)) - 2)\n",
    "    return round(n/magnitude) * magnitude\n",
    "\n",
    "# Apply the custom rounding function to the 'numbers' column\n",
    "df_2['price_per_meter'] = df_2['price_per_meter'].apply(custom_round)"
   ]
  },
  {
   "cell_type": "code",
   "execution_count": 52,
   "metadata": {},
   "outputs": [],
   "source": [
    "df_2 = df_2[['pieces','etages','superficie','prdx_price','asset_in_promotional_site','adr_longitude','adr_latitude','cty_name','stt_name','kitchen', 'heating', 'secured',\n",
    "     'parking', 'garden', 'fournished', 'ownership','price_per_meter']]"
   ]
  },
  {
   "cell_type": "markdown",
   "metadata": {},
   "source": [
    "### Drop the price_per_meter outliers"
   ]
  },
  {
   "cell_type": "code",
   "execution_count": 53,
   "metadata": {},
   "outputs": [
    {
     "data": {
      "text/plain": [
       "15272"
      ]
     },
     "execution_count": 53,
     "metadata": {},
     "output_type": "execute_result"
    }
   ],
   "source": [
    "df_2 = df_2 [(df_2['price_per_meter'] <= 340000)]\n",
    "\n",
    "def modified_drop_outliers(group):\n",
    "    unique_prices = group['price_per_meter'].nunique()\n",
    "    \n",
    "    # If the group has only one or two unique 'price_per_meter' values, keep all records\n",
    "    if unique_prices <= 2:\n",
    "        return group\n",
    "    \n",
    "    Q1 = group['price_per_meter'].quantile(0.45)\n",
    "    Q3 = group['price_per_meter'].quantile(0.85)\n",
    "    lower_bound = Q1\n",
    "    upper_bound = Q3\n",
    "    \n",
    "    return group[(group['price_per_meter'] >= lower_bound) & (group['price_per_meter'] <= upper_bound)]\n",
    "\n",
    "# Apply the modified function to each group and concatenate the results\n",
    "df_2 = df_2.groupby(['adr_latitude', 'adr_longitude']).apply(modified_drop_outliers).reset_index(drop=True)\n",
    "\n",
    "# Check the number of unique groups after applying the modified function\n",
    "len(df_2.groupby(['adr_latitude', 'adr_longitude']).size().reset_index(name='count'))"
   ]
  },
  {
   "cell_type": "code",
   "execution_count": 54,
   "metadata": {},
   "outputs": [],
   "source": [
    "#df_2['log_price_per_meter'] = np.log1p(df_2['price_per_meter'])"
   ]
  },
  {
   "cell_type": "markdown",
   "metadata": {},
   "source": [
    "## Drop the groups that has more that has IQR greater than 800,000"
   ]
  },
  {
   "cell_type": "code",
   "execution_count": null,
   "metadata": {},
   "outputs": [],
   "source": [
    "# Calculate IQR for each group\n",
    "def calculate_iqr(group):\n",
    "    Q1 = group['price_per_meter'].quantile(0)\n",
    "    Q3 = group['price_per_meter'].quantile(1)\n",
    "    IQR = Q3 - Q1\n",
    "    return pd.Series({'IQR': IQR})\n",
    "\n",
    "# Calculate IQR for each group and reset index\n",
    "iqr_df = df_2.groupby(['adr_latitude', 'adr_longitude']).apply(calculate_iqr).reset_index()\n",
    "\n",
    "# Filter out groups where IQR is greater than 100,000\n",
    "filtered_iqr_df = iqr_df[iqr_df['IQR'] <= 80000]\n",
    "\n",
    "# Merge the filtered IQR data back into the original DataFrame\n",
    "df_2 = pd.merge(df_2, filtered_iqr_df[['adr_latitude', 'adr_longitude']], on=['adr_latitude', 'adr_longitude'], how='inner')"
   ]
  },
  {
   "cell_type": "code",
   "execution_count": null,
   "metadata": {},
   "outputs": [],
   "source": [
    "len(df_2.groupby(['adr_latitude', 'adr_longitude']).size().reset_index(name='count'))"
   ]
  },
  {
   "cell_type": "code",
   "execution_count": null,
   "metadata": {},
   "outputs": [],
   "source": [
    "df_2.dropna(inplace=True)"
   ]
  },
  {
   "cell_type": "markdown",
   "metadata": {},
   "source": [
    "## Add impot data"
   ]
  },
  {
   "cell_type": "code",
   "execution_count": 62,
   "metadata": {},
   "outputs": [],
   "source": [
    "final_villages_df = pd.read_csv('final_commune_with_prices_10_28.csv')"
   ]
  },
  {
   "cell_type": "code",
   "execution_count": 63,
   "metadata": {},
   "outputs": [
    {
     "name": "stdout",
     "output_type": "stream",
     "text": [
      "Skipped empty polygon.\n"
     ]
    }
   ],
   "source": [
    "import numpy as np\n",
    "import pandas as pd\n",
    "import geopandas as gpd\n",
    "import shapely\n",
    "from shapely.wkt import loads\n",
    "from shapely.geometry import Point, Polygon, MultiPolygon\n",
    "from rapidfuzz import process, fuzz\n",
    "\n",
    "def convert_to_geometry(data):\n",
    "    try:\n",
    "        return shapely.wkt.loads(data)\n",
    "    except Exception as e:\n",
    "        # Return an empty Point geometry if conversion fails\n",
    "        return shapely.geometry.Point()\n",
    "\n",
    "\n",
    "def filter_uuuuu_by_stt_name(stt_name, df, threshold=80):\n",
    "    unique_stt_names = df['stt_name'].str.lower().unique()\n",
    "    \n",
    "    # Using rapidfuzz's process.extract\n",
    "    matches = process.extract(stt_name.lower(), unique_stt_names, scorer=fuzz.WRatio, limit=None, score_cutoff=threshold)\n",
    "    \n",
    "    if matches:\n",
    "        best_match = matches[0][0]  # Choose the best match (the one with the highest score)\n",
    "        return df[df['stt_name'].str.lower() == best_match.lower()]\n",
    "    else:\n",
    "        return pd.DataFrame()\n",
    "\n",
    "\n",
    "def calculate_rapports(row):\n",
    "    centre_mean = (row['centre_min'] + row['centre_max']) / 2\n",
    "    peripherique_mean = (row['peripherique_min'] + row['peripherique_max']) / 2\n",
    "    far_mean = (row['far_min'] + row['far_max']) / 2\n",
    "\n",
    "    rapport_centre_min = row['centre_min'] / centre_mean if (not np.isnan(row['centre_min']) and centre_mean != 0) else np.nan\n",
    "    rapport_centre_max = row['centre_max'] / centre_mean if (not np.isnan(row['centre_max']) and centre_mean != 0) else np.nan\n",
    "    rapport_peripherique_min = row['peripherique_min'] / peripherique_mean if (not np.isnan(row['peripherique_min']) and peripherique_mean != 0) else np.nan\n",
    "    rapport_peripherique_max = row['peripherique_max'] / peripherique_mean if (not np.isnan(row['peripherique_max']) and peripherique_mean != 0) else np.nan\n",
    "    rapport_far_min = row['far_min'] / far_mean if (not np.isnan(row['far_min']) and far_mean != 0) else np.nan\n",
    "    rapport_far_max = row['far_max'] / far_mean if (not np.isnan(row['far_max']) and far_mean != 0) else np.nan\n",
    "\n",
    "    return pd.Series({\n",
    "        'rapport_centre_min': rapport_centre_min,\n",
    "        'rapport_centre_max': rapport_centre_max,\n",
    "        'rapport_peripherique_min': rapport_peripherique_min,\n",
    "        'rapport_peripherique_max': rapport_peripherique_max,\n",
    "        'rapport_far_min': rapport_far_min,\n",
    "        'rapport_far_max': rapport_far_max\n",
    "    })\n",
    "\n",
    "\n",
    "\n",
    "def generate_random_points_within_polygon(polygon, num_points=5):\n",
    "    if polygon.is_empty:\n",
    "        print(\"Skipped empty polygon.\")\n",
    "        return []\n",
    "    \n",
    "    minx, miny, maxx, maxy = polygon.bounds\n",
    "    points = []\n",
    "    \n",
    "    while len(points) < num_points:\n",
    "        random_point = Point(np.random.uniform(minx, maxx), np.random.uniform(miny, maxy))\n",
    "        if random_point.within(polygon):\n",
    "            points.append(random_point)\n",
    "    \n",
    "    return points\n",
    "\n",
    "def correct_invalid_geometry(geometry):\n",
    "    \"\"\"Corrects an invalid geometry using a buffer trick.\"\"\"\n",
    "    if not geometry.is_valid:\n",
    "        return geometry.buffer(0)\n",
    "    return geometry\n",
    "\n",
    "def handle_nan_values(row):\n",
    "    # Fallback logic for NaN values\n",
    "    if np.isnan(row['far_min']) or np.isnan(row['far_max']):\n",
    "        if np.isnan(row['peripherique_min']) or np.isnan(row['peripherique_max']):\n",
    "            row['far_min'] = row['centre_min']\n",
    "            row['far_max'] = row['centre_max']\n",
    "        else:\n",
    "            row['far_min'] = row['peripherique_min']\n",
    "            row['far_max'] = row['peripherique_max']\n",
    "    return row\n",
    "\n",
    "def generate_and_append_points_with_price(geometry, stt_name, commune_name, min_price, max_price, data_list):\n",
    "    points = generate_random_points_within_polygon(geometry)\n",
    "    for point in points:\n",
    "        random_price = np.random.uniform(min_price, max_price) if not np.isnan(min_price) and not np.isnan(max_price) else np.nan\n",
    "        data_list.append({\n",
    "            'stt_name': stt_name,\n",
    "            'commune_name': commune_name,\n",
    "            'latitude': point.y,\n",
    "            'longitude': point.x,\n",
    "            'price': random_price\n",
    "        })\n",
    "\n",
    "def generate_points_with_pricing_logic(row, stt_name, commune_name, mean_price, rapports, data_list):\n",
    "    if not np.isnan(mean_price):\n",
    "        # For center\n",
    "        generate_and_append_points_with_price(row['center'], stt_name, commune_name, \n",
    "                                              mean_price * rapports['rapport_centre_min'], mean_price * rapports['rapport_centre_max'], data_list)\n",
    "        \n",
    "        # For peripherique\n",
    "        peripherique_geometry = correct_invalid_geometry(row['peripherique']).difference(correct_invalid_geometry(row['center']))\n",
    "        generate_and_append_points_with_price(peripherique_geometry, stt_name, commune_name, \n",
    "                                              mean_price * rapports['rapport_peripherique_min'], mean_price * rapports['rapport_peripherique_max'], data_list)\n",
    "        \n",
    "        # For far\n",
    "        far_geometry = correct_invalid_geometry(row['geometry']).difference(correct_invalid_geometry(row['peripherique']))\n",
    "        generate_and_append_points_with_price(far_geometry, stt_name, commune_name, \n",
    "                                              mean_price * rapports['rapport_far_min'], mean_price * rapports['rapport_far_max'], data_list)\n",
    "    else:\n",
    "        # Use specified min and max values when mean_price is NaN\n",
    "        generate_and_append_points_with_price(row['center'], stt_name, commune_name, \n",
    "                                              row['centre_min'], row['centre_max'], data_list)\n",
    "        \n",
    "        peripherique_geometry = correct_invalid_geometry(row['peripherique']).difference(correct_invalid_geometry(row['center']))\n",
    "        generate_and_append_points_with_price(peripherique_geometry, stt_name, commune_name, \n",
    "                                              row['peripherique_min'], row['peripherique_max'], data_list)\n",
    "        \n",
    "        far_geometry = correct_invalid_geometry(row['geometry']).difference(correct_invalid_geometry(row['peripherique']))\n",
    "        generate_and_append_points_with_price(far_geometry, stt_name, commune_name, \n",
    "                                              row['far_min'], row['far_max'], data_list)\n",
    "\n",
    "# Assuming final_villages_df, s (uuuuu DataFrame) are already defined\n",
    "# New logic begins here\n",
    "# New logic begins here\n",
    "final_villages_df['geometry'] = final_villages_df['geometry'].apply(convert_to_geometry)\n",
    "final_villages_df['center'] = final_villages_df['center'].apply(convert_to_geometry)\n",
    "final_villages_df['peripherique'] = final_villages_df['peripherique'].apply(convert_to_geometry)\n",
    "\n",
    "generated_points_data = []\n",
    "\n",
    "for stt_name in final_villages_df['stt_name'].str.lower().unique():\n",
    "    # Filter data_df using fuzzy search for stt_name\n",
    "    filtered_data_df = filter_uuuuu_by_stt_name(stt_name.lower(), df_2)  # Assuming s is defined and is the data_df\n",
    "\n",
    "    # Filter reference_df for the current stt_name\n",
    "    filtered_reference_df = final_villages_df[final_villages_df['stt_name'].str.lower() == stt_name.lower()]\n",
    "\n",
    "    for _, row in filtered_reference_df.iterrows():\n",
    "        commune_name = row['commune_name']  # Assuming 'commune_name' is the column name in reference_df\n",
    "\n",
    "        if not filtered_data_df.empty:\n",
    "            # Check if commune_name is in the filtered data_df\n",
    "            if commune_name.lower() in filtered_data_df['cty_name'].str.lower().values:\n",
    "                if len(filtered_data_df[filtered_data_df['cty_name'].str.lower() == commune_name.lower()]) <= 5:\n",
    "                    mean_price = filtered_data_df['price_per_meter'].mean() if commune_name in filtered_data_df['cty_name'].values else np.nan\n",
    "                    rapports = calculate_rapports(row)\n",
    "                    generate_points_with_pricing_logic(row, stt_name, commune_name, mean_price, rapports, generated_points_data)\n",
    "                else:\n",
    "                    # Skip if count is more than 5\n",
    "                    pass\n",
    "            else:\n",
    "                # If commune_name is not in cty_name\n",
    "                row = handle_nan_values(row)\n",
    "                generate_points_with_pricing_logic(row, stt_name, commune_name, np.nan, None, generated_points_data)\n",
    "        else:\n",
    "            # If filtered_data_df is empty (stt_name not in s)\n",
    "            row = handle_nan_values(row)\n",
    "            generate_points_with_pricing_logic(row, stt_name, commune_name, np.nan, None, generated_points_data)\n",
    "\n",
    "generated_points_df = pd.DataFrame(generated_points_data)\n"
   ]
  },
  {
   "cell_type": "code",
   "execution_count": 64,
   "metadata": {},
   "outputs": [],
   "source": [
    "generated_points_df =  generated_points_df.dropna()"
   ]
  },
  {
   "cell_type": "code",
   "execution_count": 65,
   "metadata": {},
   "outputs": [],
   "source": [
    "generated_points_df.columns = generated_points_df.columns.str.replace('commune_name', 'cty_name')\n",
    "generated_points_df.columns = generated_points_df.columns.str.replace('latitude', 'adr_latitude')\n",
    "generated_points_df.columns = generated_points_df.columns.str.replace('longitude', 'adr_longitude')\n",
    "generated_points_df.columns = generated_points_df.columns.str.replace('price', 'price_per_meter')\n",
    "generated_points_df = generated_points_df[['cty_name', 'adr_latitude', 'adr_longitude', 'stt_name','price_per_meter']]"
   ]
  },
  {
   "cell_type": "markdown",
   "metadata": {},
   "source": [
    "### Keep only the needed columns"
   ]
  },
  {
   "cell_type": "code",
   "execution_count": 60,
   "metadata": {},
   "outputs": [],
   "source": [
    "#df_2 = df_2[[ 'pieces', 'etages', \n",
    "#       'adr_longitude', 'adr_latitude', 'cty_name', 'cty_2008_population',\n",
    "#       'cty_area', 'stt_id', 'stt_name',\n",
    "#        'kitchen', 'heating',\n",
    "#       'secured', 'parking', 'garden', 'fournished', 'ownership'\n",
    "#       , 'price_per_meter']]"
   ]
  },
  {
   "cell_type": "markdown",
   "metadata": {},
   "source": [
    "## Copy the df_2 to not make changes to it."
   ]
  },
  {
   "cell_type": "code",
   "execution_count": 56,
   "metadata": {},
   "outputs": [],
   "source": [
    "df_3=df_2.copy()"
   ]
  },
  {
   "cell_type": "code",
   "execution_count": 57,
   "metadata": {},
   "outputs": [],
   "source": [
    "# Check data types\n",
    "#print(df.dtypes)\n",
    "\n",
    "# Example of converting a column to numeric\n",
    "# Replace 'etages' with the appropriate column name\n",
    "# and ensure the conversion is suitable for your data\n",
    "df_3['etages'] = pd.to_numeric(df_3['etages'])\n",
    "\n",
    "# Alternatively, for categorical data, use\n"
   ]
  },
  {
   "cell_type": "code",
   "execution_count": 58,
   "metadata": {},
   "outputs": [],
   "source": [
    "df_3 = df_3[[ 'pieces', 'etages', \n",
    "       'adr_longitude', 'adr_latitude', 'cty_name', 'stt_name',\n",
    "        'kitchen', 'heating',\n",
    "       'secured', 'parking', 'garden', 'fournished'\n",
    "       , 'price_per_meter']]"
   ]
  },
  {
   "cell_type": "code",
   "execution_count": 66,
   "metadata": {},
   "outputs": [],
   "source": [
    "from sklearn.model_selection import train_test_split\n",
    "\n",
    "single_occurrence_cities = df_3['cty_name'].value_counts()[df_3['cty_name'].value_counts() == 1].index\n",
    "\n",
    "# Filter out rows with those city names and store them separately\n",
    "single_occurrence_data = df_3[df_3['cty_name'].isin(single_occurrence_cities)]\n",
    "df_3 = df_3[~df_3['cty_name'].isin(single_occurrence_cities)]\n",
    "\n",
    "# Splitting the remaining data into training and testing sets using 'cty_name' for stratification\n",
    "X = df_3.drop(columns=['price_per_meter'])\n",
    "y = df_3['price_per_meter']\n",
    "\n",
    "X_train, X_test, y_train, y_test = train_test_split(X, y, test_size=0.2, stratify=X['cty_name'], random_state=42, shuffle=True)\n",
    "\n",
    "\n",
    "# Add single-occurrence data to the training data\n",
    "X_train = pd.concat([X_train, single_occurrence_data.drop(columns=['price_per_meter'])], ignore_index=True)\n",
    "y_train = pd.concat([y_train, single_occurrence_data['price_per_meter']], ignore_index=True)\n",
    "\n",
    "X_train = pd.concat([X_train, generated_points_df.drop(columns=['price_per_meter'])], ignore_index=True)\n",
    "y_train = pd.concat([y_train, generated_points_df['price_per_meter']], ignore_index=True)\n",
    "# Create X_test_algiers and y_test_algiers\n",
    "\n",
    "#X_test_algiers = X_test[X_test['stt_name'] == 'Algiers']\n",
    "#y_test_algiers = y_test.loc[X_test_algiers.index]\n",
    "# Get the indices of X_test_algiers and X_test_no_algiers\n",
    "# Create X_test_no_algiers and y_test_no_algiers\n",
    "#X_test_no_algiers = X_test[X_test['stt_name'] != 'Algiers']\n",
    "#y_test_no_algiers = y_test.loc[X_test_no_algiers.index]\n",
    "\n",
    "#X_test_no_algiers = X_test_no_algiers.drop(columns=['cty_name'])\n",
    "#X_test_algiers = X_test_algiers.drop(columns=['cty_name'])\n",
    "#X_test_no_algiers = X_test_no_algiers.drop(columns=['stt_name'])\n",
    "#X_test_algiers = X_test_algiers.drop(columns=['stt_name'])\n",
    "X_train = X_train.drop(columns=['cty_name'])\n",
    "X_test = X_test.drop(columns=['cty_name'])\n",
    "X_train = X_train.drop(columns=['stt_name'])\n",
    "X_test = X_test.drop(columns=['stt_name'])"
   ]
  },
  {
   "cell_type": "markdown",
   "metadata": {},
   "source": [
    "## Train the first model (with features)"
   ]
  },
  {
   "cell_type": "code",
   "execution_count": null,
   "metadata": {
    "scrolled": true
   },
   "outputs": [],
   "source": [
    "import optuna\n",
    "import mlflow\n",
    "from lightgbm import LGBMRegressor\n",
    "from sklearn.model_selection import cross_val_score\n",
    "from sklearn.metrics import r2_score, mean_squared_error\n",
    "\n",
    "# Check if the 'sales_apartments' experiment exists, if not create it\n",
    "experiment_name = 'sales_apartments'\n",
    "experiment = mlflow.get_experiment_by_name(experiment_name)\n",
    "if experiment is None:\n",
    "    mlflow.create_experiment(experiment_name)\n",
    "    \n",
    "# Set the experiment to the one we're working on\n",
    "mlflow.set_experiment(experiment_name)\n",
    "\n",
    "\n",
    "def objective(trial):\n",
    "    param = {\n",
    "        'boosting_type': 'gbdt',\n",
    "        'objective': 'regression',\n",
    "        'metric': 'rmse',\n",
    "        'learning_rate': trial.suggest_float('learning_rate', 0.1, 0.3, log=True),\n",
    "        'n_estimators': trial.suggest_int('n_estimators', 350, 500),\n",
    "        'max_depth': trial.suggest_int('max_depth', 15, 22),\n",
    "        'num_leaves': trial.suggest_int('num_leaves', 30, 50),\n",
    "    }\n",
    "    model = LGBMRegressor(**param)\n",
    "    \n",
    "    score = cross_val_score(model, X_train, y_train, cv=5, scoring='neg_mean_squared_error')\n",
    "    return score.mean()\n",
    "\n",
    "study = optuna.create_study(direction='maximize')\n",
    "study.optimize(objective, n_trials=150)\n",
    "\n",
    "# Get the best parameters\n",
    "best_params = study.best_params\n",
    "\n",
    "# Train your model with the best parameters\n",
    "lgb_model_best = LGBMRegressor(**best_params, random_state=42)\n",
    "lgb_model_best.fit(X_train, y_train)\n",
    "\n",
    "# Make predictions on the test set\n",
    "y_pred = lgb_model_best.predict(X_test)\n",
    "y_pred_train = lgb_model_best.predict(X_train)\n",
    "\n",
    "\n",
    "# Calculate the metrics\n",
    "\n",
    "# Calculate the metrics\n",
    "# Ensure these metrics calculations do not throw any errors\n",
    "train_r2 = r2_score(y_train, y_pred_train)\n",
    "train_mse = mean_squared_error(y_train, y_pred_train)\n",
    "train_rmse = train_mse ** 0.5\n",
    "train_rrmse = train_rmse / np.mean(y_train) if np.mean(y_train) != 0 else None\n",
    "train_rmsre = np.sqrt(np.mean(((y_pred_train - y_train) / y_train) ** 2)) if np.any(y_train) != 0 else None\n",
    "test_r2 = r2_score(y_test, y_pred)\n",
    "test_mse = mean_squared_error(y_test, y_pred)\n",
    "test_rmse = test_mse ** 0.5\n",
    "test_rrmse = train_rmse / np.mean(y_test) if np.mean(y_test) != 0 else None\n",
    "test_rmsre = np.sqrt(np.mean(((y_pred - y_test) / y_test) ** 2)) if np.any(y_test) != 0 else None\n",
    "\n",
    "# Start a new run\n",
    "with mlflow.start_run():\n",
    "    # Log the parameters of your model\n",
    "    mlflow.log_params(lgb_model_best.get_params())\n",
    "    \n",
    "    # Log the list of feature names\n",
    "    mlflow.log_param(\"feature_names\", \", \".join(X_train.columns))\n",
    "\n",
    "    # Log the metrics one by one\n",
    "    mlflow.log_metric(\"train_r2\", train_r2)\n",
    "    mlflow.log_metric(\"train_mse\", train_mse)\n",
    "    mlflow.log_metric(\"train_rmse\", train_rmse)\n",
    "    mlflow.log_metric(\"train_rrmse\", train_rrmse)\n",
    "    mlflow.log_metric(\"train_rmsre\", train_rmsre)\n",
    "    mlflow.log_metric(\"test_r2\", test_r2)\n",
    "    mlflow.log_metric(\"test_mse\", test_mse)\n",
    "    mlflow.log_metric(\"test_rmse\", test_rmse)\n",
    "    mlflow.log_metric(\"test_rrmse\", test_rrmse)\n",
    "    mlflow.log_metric(\"test_rmsre\", test_rmsre)\n",
    "\n",
    "    # Ensure cv_r2_scores is calculated and defined before this point\n",
    "    # mlflow.log_metric(\"cv_mean_r2\", cv_r2_scores.mean())\n",
    "    # mlflow.log_metric(\"cv_std_r2\", cv_r2_scores.std())\n",
    "\n",
    "    # Log the model as an artifact\n",
    "    mlflow.lightgbm.log_model(lgb_model_best, \"model\")"
   ]
  },
  {
   "cell_type": "code",
   "execution_count": 111,
   "metadata": {},
   "outputs": [
    {
     "name": "stdout",
     "output_type": "stream",
     "text": [
      "file:///home/zaki/Desktop/H/mlruns\n"
     ]
    }
   ],
   "source": [
    "print(mlflow.get_tracking_uri())"
   ]
  },
  {
   "cell_type": "code",
   "execution_count": 358,
   "metadata": {},
   "outputs": [
    {
     "data": {
      "text/plain": [
       "{'learning_rate': 0.1, 'max_depth': 9, 'n_estimators': 500, 'num_leaves': 63}"
      ]
     },
     "execution_count": 358,
     "metadata": {},
     "output_type": "execute_result"
    }
   ],
   "source": [
    "best_params"
   ]
  },
  {
   "cell_type": "code",
   "execution_count": 360,
   "metadata": {
    "scrolled": true
   },
   "outputs": [
    {
     "data": {
      "image/png": "[encoded data removed]",
      "text/plain": [
       "<Figure size 800x590 with 1 Axes>"
      ]
     },
     "metadata": {},
     "output_type": "display_data"
    },
    {
     "data": {
      "image/png": "[encoded data removed]",
      "text/plain": [
       "<Figure size 800x590 with 2 Axes>"
      ]
     },
     "metadata": {},
     "output_type": "display_data"
    },
    {
     "data": {
      "image/png": "[encoded data removed]",
      "text/plain": [
       "<Figure size 750x500 with 2 Axes>"
      ]
     },
     "metadata": {},
     "output_type": "display_data"
    },
    {
     "name": "stdout",
     "output_type": "stream",
     "text": [
      "[LightGBM] [Info] Auto-choosing row-wise multi-threading, the overhead of testing was 0.000638 seconds.\n",
      "You can set `force_row_wise=true` to remove the overhead.\n",
      "And if memory is not enough, you can set `force_col_wise=true`.\n",
      "[LightGBM] [Info] Total Bins 537\n",
      "[LightGBM] [Info] Number of data points in the train set: 41572, number of used features: 11\n",
      "[LightGBM] [Info] Start training from score 151760.247282\n",
      "[LightGBM] [Warning] No further splits with positive gain, best gain: -inf\n",
      "[LightGBM] [Warning] No further splits with positive gain, best gain: -inf\n",
      "[LightGBM] [Warning] No further splits with positive gain, best gain: -inf\n",
      "[LightGBM] [Warning] No further splits with positive gain, best gain: -inf\n",
      "[LightGBM] [Warning] No further splits with positive gain, best gain: -inf\n",
      "[LightGBM] [Info] Auto-choosing row-wise multi-threading, the overhead of testing was 0.000550 seconds.\n",
      "You can set `force_row_wise=true` to remove the overhead.\n",
      "And if memory is not enough, you can set `force_col_wise=true`.\n",
      "[LightGBM] [Info] Total Bins 537\n",
      "[LightGBM] [Info] Number of data points in the train set: 41573, number of used features: 11\n",
      "[LightGBM] [Info] Start training from score 151847.593390\n",
      "[LightGBM] [Info] Auto-choosing row-wise multi-threading, the overhead of testing was 0.161164 seconds.\n",
      "You can set `force_row_wise=true` to remove the overhead.\n",
      "And if memory is not enough, you can set `force_col_wise=true`.\n",
      "[LightGBM] [Info] Total Bins 537\n",
      "[LightGBM] [Info] Number of data points in the train set: 41572, number of used features: 11\n",
      "[LightGBM] [Info] Start training from score 151760.247282\n",
      "[LightGBM] [Info] Auto-choosing row-wise multi-threading, the overhead of testing was 0.225758 seconds.\n",
      "You can set `force_row_wise=true` to remove the overhead.\n",
      "And if memory is not enough, you can set `force_col_wise=true`.\n",
      "[LightGBM] [Info] Total Bins 537\n",
      "[LightGBM] [Info] Number of data points in the train set: 41573, number of used features: 11\n",
      "[LightGBM] [Info] Start training from score 152091.188993\n",
      "[LightGBM] [Info] Auto-choosing row-wise multi-threading, the overhead of testing was 0.017537 seconds.\n",
      "You can set `force_row_wise=true` to remove the overhead.\n",
      "And if memory is not enough, you can set `force_col_wise=true`.\n",
      "[LightGBM] [Info] Total Bins 537\n",
      "[LightGBM] [Info] Number of data points in the train set: 41573, number of used features: 11\n",
      "[LightGBM] [Info] Start training from score 152038.462464\n",
      "[LightGBM] [Warning] Accuracy may be bad since you didn't explicitly set num_leaves OR 2^max_depth > num_leaves. (num_leaves=31).\n",
      "[LightGBM] [Warning] Accuracy may be bad since you didn't explicitly set num_leaves OR 2^max_depth > num_leaves. (num_leaves=31).\n",
      "[LightGBM] [Info] Auto-choosing row-wise multi-threading, the overhead of testing was 0.003346 seconds.\n",
      "You can set `force_row_wise=true` to remove the overhead.\n",
      "And if memory is not enough, you can set `force_col_wise=true`.\n",
      "[LightGBM] [Info] Total Bins 537\n",
      "[LightGBM] [Info] Number of data points in the train set: 41572, number of used features: 11\n",
      "[LightGBM] [Info] Start training from score 151760.247282\n",
      "[LightGBM] [Warning] Accuracy may be bad since you didn't explicitly set num_leaves OR 2^max_depth > num_leaves. (num_leaves=31).\n",
      "[LightGBM] [Warning] Accuracy may be bad since you didn't explicitly set num_leaves OR 2^max_depth > num_leaves. (num_leaves=31).\n",
      "[LightGBM] [Warning] Accuracy may be bad since you didn't explicitly set num_leaves OR 2^max_depth > num_leaves. (num_leaves=31).\n",
      "[LightGBM] [Info] Auto-choosing row-wise multi-threading, the overhead of testing was 0.026107 seconds.\n",
      "You can set `force_row_wise=true` to remove the overhead.\n",
      "And if memory is not enough, you can set `force_col_wise=true`.\n",
      "[LightGBM] [Info] Total Bins 537\n",
      "[LightGBM] [Info] Number of data points in the train set: 41573, number of used features: 11\n",
      "[LightGBM] [Info] Start training from score 151847.593390\n",
      "[LightGBM] [Warning] Accuracy may be bad since you didn't explicitly set num_leaves OR 2^max_depth > num_leaves. (num_leaves=31).\n",
      "[LightGBM] [Warning] Accuracy may be bad since you didn't explicitly set num_leaves OR 2^max_depth > num_leaves. (num_leaves=31).\n",
      "[LightGBM] [Warning] Accuracy may be bad since you didn't explicitly set num_leaves OR 2^max_depth > num_leaves. (num_leaves=31).\n",
      "[LightGBM] [Info] Auto-choosing row-wise multi-threading, the overhead of testing was 0.005231 seconds.\n",
      "You can set `force_row_wise=true` to remove the overhead.\n",
      "And if memory is not enough, you can set `force_col_wise=true`.\n",
      "[LightGBM] [Info] Total Bins 537\n",
      "[LightGBM] [Info] Number of data points in the train set: 41573, number of used features: 11\n",
      "[LightGBM] [Info] Start training from score 152478.026604\n",
      "[LightGBM] [Warning] Accuracy may be bad since you didn't explicitly set num_leaves OR 2^max_depth > num_leaves. (num_leaves=31).\n",
      "[LightGBM] [Info] Auto-choosing row-wise multi-threading, the overhead of testing was 0.011145 seconds.\n",
      "You can set `force_row_wise=true` to remove the overhead.\n",
      "And if memory is not enough, you can set `force_col_wise=true`.\n",
      "[LightGBM] [Info] Total Bins 537\n",
      "[LightGBM] [Info] Number of data points in the train set: 41573, number of used features: 11\n",
      "[LightGBM] [Info] Start training from score 152091.188993\n",
      "[LightGBM] [Info] Auto-choosing row-wise multi-threading, the overhead of testing was 0.062547 seconds.\n",
      "You can set `force_row_wise=true` to remove the overhead.\n",
      "And if memory is not enough, you can set `force_col_wise=true`.\n",
      "[LightGBM] [Info] Total Bins 537\n",
      "[LightGBM] [Info] Number of data points in the train set: 41573, number of used features: 11\n",
      "[LightGBM] [Info] Start training from score 152478.026604\n",
      "[LightGBM] [Info] Auto-choosing row-wise multi-threading, the overhead of testing was 0.153765 seconds.\n",
      "You can set `force_row_wise=true` to remove the overhead.\n",
      "And if memory is not enough, you can set `force_col_wise=true`.\n",
      "[LightGBM] [Info] Total Bins 537\n",
      "[LightGBM] [Info] Number of data points in the train set: 41572, number of used features: 11\n",
      "[LightGBM] [Info] Start training from score 151760.247282\n",
      "[LightGBM] [Warning] No further splits with positive gain, best gain: -inf\n",
      "[LightGBM] [Warning] No further splits with positive gain, best gain: -inf\n",
      "[LightGBM] [Warning] No further splits with positive gain, best gain: -inf\n",
      "[LightGBM] [Warning] No further splits with positive gain, best gain: -inf\n",
      "[LightGBM] [Warning] No further splits with positive gain, best gain: -inf\n",
      "[LightGBM] [Info] Auto-choosing row-wise multi-threading, the overhead of testing was 0.232132 seconds.\n",
      "You can set `force_row_wise=true` to remove the overhead.\n",
      "And if memory is not enough, you can set `force_col_wise=true`.\n",
      "[LightGBM] [Info] Total Bins 537\n",
      "[LightGBM] [Info] Number of data points in the train set: 41573, number of used features: 11\n",
      "[LightGBM] [Info] Start training from score 152038.462464\n",
      "[LightGBM] [Info] Number of data points in the train set: 41573, number of used features: 11\n",
      "[LightGBM] [Info] Start training from score 152091.188993\n",
      "[LightGBM] [Info] Auto-choosing row-wise multi-threading, the overhead of testing was 0.005679 seconds.\n",
      "You can set `force_row_wise=true` to remove the overhead.\n",
      "And if memory is not enough, you can set `force_col_wise=true`.\n",
      "[LightGBM] [Info] Total Bins 537\n",
      "[LightGBM] [Info] Number of data points in the train set: 41573, number of used features: 11\n",
      "[LightGBM] [Info] Start training from score 152038.462464\n",
      "[LightGBM] [Info] Auto-choosing row-wise multi-threading, the overhead of testing was 0.024547 seconds.\n",
      "You can set `force_row_wise=true` to remove the overhead.\n",
      "And if memory is not enough, you can set `force_col_wise=true`.\n",
      "[LightGBM] [Info] Total Bins 537\n",
      "[LightGBM] [Info] Number of data points in the train set: 41573, number of used features: 11\n",
      "[LightGBM] [Info] Start training from score 152478.026604\n",
      "[LightGBM] [Info] Auto-choosing row-wise multi-threading, the overhead of testing was 0.313220 seconds.\n",
      "You can set `force_row_wise=true` to remove the overhead.\n",
      "And if memory is not enough, you can set `force_col_wise=true`.\n",
      "[LightGBM] [Info] Total Bins 537\n",
      "[LightGBM] [Info] Number of data points in the train set: 41573, number of used features: 11\n",
      "[LightGBM] [Info] Start training from score 151847.593390\n",
      "[LightGBM] [Info] Auto-choosing row-wise multi-threading, the overhead of testing was 0.206763 seconds.\n",
      "You can set `force_row_wise=true` to remove the overhead.\n",
      "And if memory is not enough, you can set `force_col_wise=true`.\n",
      "[LightGBM] [Info] Total Bins 537\n",
      "[LightGBM] [Info] Number of data points in the train set: 41573, number of used features: 11\n",
      "[LightGBM] [Info] Start training from score 152478.026604\n",
      "[LightGBM] [Warning] Accuracy may be bad since you didn't explicitly set num_leaves OR 2^max_depth > num_leaves. (num_leaves=31).\n",
      "[LightGBM] [Warning] Accuracy may be bad since you didn't explicitly set num_leaves OR 2^max_depth > num_leaves. (num_leaves=31).\n",
      "[LightGBM] [Info] Auto-choosing row-wise multi-threading, the overhead of testing was 0.321346 seconds.\n",
      "You can set `force_row_wise=true` to remove the overhead.\n",
      "And if memory is not enough, you can set `force_col_wise=true`.\n",
      "[LightGBM] [Info] Total Bins 537\n",
      "[LightGBM] [Info] Number of data points in the train set: 41573, number of used features: 11\n",
      "[LightGBM] [Info] Start training from score 152091.188993\n",
      "[LightGBM] [Warning] Accuracy may be bad since you didn't explicitly set num_leaves OR 2^max_depth > num_leaves. (num_leaves=31).\n",
      "[LightGBM] [Warning] Accuracy may be bad since you didn't explicitly set num_leaves OR 2^max_depth > num_leaves. (num_leaves=31).\n",
      "[LightGBM] [Warning] Accuracy may be bad since you didn't explicitly set num_leaves OR 2^max_depth > num_leaves. (num_leaves=31).\n",
      "[LightGBM] [Info] Auto-choosing row-wise multi-threading, the overhead of testing was 0.000651 seconds.\n",
      "You can set `force_row_wise=true` to remove the overhead.\n",
      "And if memory is not enough, you can set `force_col_wise=true`.\n",
      "[LightGBM] [Info] Total Bins 537\n",
      "[LightGBM] [Info] Number of data points in the train set: 41573, number of used features: 11\n",
      "[LightGBM] [Info] Start training from score 152038.462464\n",
      "[LightGBM] [Warning] Accuracy may be bad since you didn't explicitly set num_leaves OR 2^max_depth > num_leaves. (num_leaves=31).\n",
      "[LightGBM] [Info] Auto-choosing row-wise multi-threading, the overhead of testing was 0.042122 seconds.\n",
      "You can set `force_row_wise=true` to remove the overhead.\n",
      "And if memory is not enough, you can set `force_col_wise=true`.\n",
      "[LightGBM] [Info] Total Bins 537\n",
      "[LightGBM] [Info] Number of data points in the train set: 41572, number of used features: 11\n",
      "[LightGBM] [Info] Start training from score 151760.247282\n",
      "[LightGBM] [Info] Auto-choosing row-wise multi-threading, the overhead of testing was 0.017277 seconds.\n",
      "You can set `force_row_wise=true` to remove the overhead.\n",
      "And if memory is not enough, you can set `force_col_wise=true`.\n",
      "[LightGBM] [Info] Total Bins 537\n",
      "[LightGBM] [Info] Number of data points in the train set: 41573, number of used features: 11\n",
      "[LightGBM] [Info] Start training from score 151847.593390\n",
      "[LightGBM] [Info] Auto-choosing row-wise multi-threading, the overhead of testing was 0.000772 seconds.\n",
      "You can set `force_row_wise=true` to remove the overhead.\n",
      "And if memory is not enough, you can set `force_col_wise=true`.\n",
      "[LightGBM] [Info] Total Bins 537\n",
      "[LightGBM] [Info] Number of data points in the train set: 41573, number of used features: 11\n",
      "[LightGBM] [Info] Start training from score 152038.462464\n",
      "[LightGBM] [Info] Auto-choosing row-wise multi-threading, the overhead of testing was 0.000889 seconds.\n",
      "You can set `force_row_wise=true` to remove the overhead.\n",
      "And if memory is not enough, you can set `force_col_wise=true`.\n",
      "[LightGBM] [Info] Total Bins 537\n",
      "[LightGBM] [Info] Number of data points in the train set: 41573, number of used features: 11\n",
      "[LightGBM] [Info] Start training from score 152091.188993\n",
      "[LightGBM] [Info] Auto-choosing row-wise multi-threading, the overhead of testing was 0.000576 seconds.\n",
      "You can set `force_row_wise=true` to remove the overhead.\n",
      "And if memory is not enough, you can set `force_col_wise=true`.\n",
      "[LightGBM] [Info] Total Bins 537\n",
      "[LightGBM] [Info] Number of data points in the train set: 41573, number of used features: 11\n",
      "[LightGBM] [Info] Start training from score 151847.593390\n",
      "[LightGBM] [Info] Auto-choosing row-wise multi-threading, the overhead of testing was 0.011196 seconds.\n",
      "You can set `force_row_wise=true` to remove the overhead.\n",
      "And if memory is not enough, you can set `force_col_wise=true`.\n",
      "[LightGBM] [Info] Total Bins 537\n",
      "[LightGBM] [Info] Number of data points in the train set: 41573, number of used features: 11\n",
      "[LightGBM] [Info] Start training from score 152478.026604\n"
     ]
    }
   ],
   "source": [
    "import shap\n",
    "\n",
    "# Assuming lgb_model is your trained LightGBM model and X_train is your training dataset\n",
    "\n",
    "# Create the SHAP Explainer\n",
    "explainer = shap.TreeExplainer(lgb_model_best)\n",
    "shap_values = explainer.shap_values(X_train)\n",
    "\n",
    "# Summarize the effects of all the features\n",
    "shap.summary_plot(shap_values, X_train, plot_type=\"bar\")\n",
    "\n",
    "# For a more detailed summary plot that shows the impact of each feature on each sample\n",
    "shap.summary_plot(shap_values, X_train)\n",
    "\n",
    "# To plot SHAP values for a single feature (e.g., 'feature_name')\n",
    "shap.dependence_plot('parking', shap_values, X_train)\n"
   ]
  },
  {
   "cell_type": "markdown",
   "metadata": {},
   "source": [
    "#### Plot the residuals"
   ]
  },
  {
   "cell_type": "code",
   "execution_count": null,
   "metadata": {},
   "outputs": [],
   "source": [
    "\n",
    "# Calculate the residuals\n",
    "residuals = y_test - y_pred  # Calculate the residuals by subtracting predictions from actual values\n",
    "\n",
    "# Create a histogram of the residuals\n",
    "plt.figure(figsize=(10, 6))\n",
    "plt.hist(residuals, bins=30, color='blue', edgecolor='black', alpha=0.7)\n",
    "plt.axvline(x=0, color='red', linewidth=2)\n",
    "plt.xlabel('Residuals')\n",
    "plt.ylabel('Frequency')\n",
    "plt.title('Histogram of Residuals for algiers')\n",
    "plt.show()"
   ]
  },
  {
   "cell_type": "code",
   "execution_count": null,
   "metadata": {},
   "outputs": [],
   "source": [
    "# Calculate the residuals\n",
    "residuals = y_test - y_pred  # Calculate the residuals by subtracting predictions from actual values\n",
    "\n",
    "# Create a histogram of the residuals\n",
    "plt.figure(figsize=(10, 6))\n",
    "plt.hist(residuals, bins=30, color='blue', edgecolor='black', alpha=0.7)\n",
    "plt.axvline(x=0, color='red', linewidth=2)\n",
    "plt.xlabel('Residuals')\n",
    "plt.ylabel('Frequency')\n",
    "plt.title('Histogram of Residuals for algiers')\n",
    "plt.show()"
   ]
  },
  {
   "cell_type": "markdown",
   "metadata": {},
   "source": [
    "## Train the model with geo only"
   ]
  },
  {
   "cell_type": "code",
   "execution_count": 133,
   "metadata": {},
   "outputs": [
    {
     "name": "stderr",
     "output_type": "stream",
     "text": [
      "/home/zaki/Desktop/transcription/lib/python3.10/site-packages/_distutils_hack/__init__.py:18: UserWarning: Distutils was imported before Setuptools, but importing Setuptools also replaces the `distutils` module in `sys.modules`. This may lead to undesirable behaviors or errors. To avoid these issues, avoid using distutils directly, ensure that setuptools is installed in the traditional way (e.g. not an editable install), and/or make sure that setuptools is always imported before distutils.\n",
      "  warnings.warn(\n",
      "/home/zaki/Desktop/transcription/lib/python3.10/site-packages/_distutils_hack/__init__.py:33: UserWarning: Setuptools is replacing distutils.\n",
      "  warnings.warn(\"Setuptools is replacing distutils.\")\n"
     ]
    }
   ],
   "source": [
    "from sklearn.model_selection import GridSearchCV\n",
    "import mlflow\n",
    "import lightgbm as lgb\n",
    "from sklearn.metrics import r2_score, mean_squared_error\n",
    "\n",
    "# Check if the 'sales_apartments' experiment exists, if not create it\n",
    "experiment_name = 'sales_apartments'\n",
    "experiment = mlflow.get_experiment_by_name(experiment_name)\n",
    "if experiment is None:\n",
    "    mlflow.create_experiment(experiment_name)\n",
    "    \n",
    "# Set the experiment to the one we're working on\n",
    "mlflow.set_experiment(experiment_name)\n",
    "\n",
    "X_train_geo = X_train[['adr_latitude', 'adr_longitude']]\n",
    "X_test_geo = X_test[['adr_latitude', 'adr_longitude']]\n",
    "\n",
    "# Define your model\n",
    "lgb_model = lgb.LGBMRegressor(random_state=42)\n",
    "\n",
    "# Define the grid of hyperparameters to search\n",
    "param_grid = {\n",
    "    'max_depth': [5, 7, 9,12],  # You can adjust these values and add more\n",
    "    'num_leaves': [15, 31, 40,63],  # Adjust these values based on max_depth\n",
    "    'learning_rate': [0.01, 0.05, 0.1,0.2],  # Example values\n",
    "    'n_estimators': [350,400,450, 500]  # Example values\n",
    "}\n",
    "\n",
    "# Setup the grid search\n",
    "grid_search = GridSearchCV(estimator=lgb_model, param_grid=param_grid, \n",
    "                           scoring='neg_mean_squared_error', cv=5, verbose=1, n_jobs=2,force_row_wise=True)\n",
    "\n",
    "# Perform the grid search\n",
    "grid_search.fit(X_train_latlong, y_train)\n",
    "\n",
    "# Get the best parameters\n",
    "best_params = grid_search.best_params_\n",
    "\n",
    "# Train your model with the best parameters\n",
    "lgb_model_best_2 = lgb.LGBMRegressor(**best_params, random_state=42)\n",
    "lgb_model_best_2.fit(X_train_geo, y_train)\n",
    "\n",
    "\n",
    "# Make predictions on the test set\n",
    "y_pred = lgb_model_best_2.predict(X_test_geo)\n",
    "y_pred_train = lgb_model_best_2.predict(X_train_geo)\n",
    "\n",
    "# Calculate the metrics\n",
    "\n",
    "train_r2 = r2_score(y_train, y_pred_train)\n",
    "train_mse = mean_squared_error(y_train, y_pred_train)\n",
    "train_rmse = train_mse ** 0.5\n",
    "train_rrmse = train_rmse / np.mean(y_train)    \n",
    "train_rmsre = np.sqrt(np.mean(((y_pred_train - y_train) / y_train) ** 2))\n",
    "test_r2 = r2_score(y_test, y_pred)\n",
    "test_mse = mean_squared_error(y_test, y_pred)\n",
    "test_rmse = test_mse ** 0.5\n",
    "test_rrmse = train_rmse / np.mean(y_test)    \n",
    "test_rmsre = np.sqrt(np.mean(((y_pred - y_test) / y_test) ** 2))\n",
    "\n",
    "\n",
    "# Start a new run\n",
    "with mlflow.start_run():\n",
    "    # Log the parameters of your model\n",
    "    mlflow.log_params(lgb_model_best_2.get_params())\n",
    "    # Log the list of feature names\n",
    "    mlflow.log_param(\"feature_names\", \", \".join(X_train.columns))\n",
    "    # Log the metrics one by one\n",
    "    mlflow.log_metric(\"train_r2\", train_r2)\n",
    "    mlflow.log_metric(\"train_mse\", train_mse)\n",
    "    mlflow.log_metric(\"train_rmse\", train_rmse)\n",
    "    mlflow.log_metric(\"train_rrmse\", train_rrmse)\n",
    "    mlflow.log_metric(\"train_rmsre\", train_rmsre)\n",
    "    mlflow.log_metric(\"test_r2\", test_r2)\n",
    "    mlflow.log_metric(\"test_mse\", test_mse)\n",
    "    mlflow.log_metric(\"test_rmse\", test_rmse)\n",
    "    mlflow.log_metric(\"test_rrmse\", test_rrmse)\n",
    "    mlflow.log_metric(\"test_rmsre\", test_rmsre)\n",
    "\n",
    "    \n",
    "    # Log the model as an artifact (as you already have)\n",
    "    mlflow.lightgbm.log_model(lgb_model_best_2, \"model\")"
   ]
  },
  {
   "cell_type": "code",
   "execution_count": 120,
   "metadata": {},
   "outputs": [
    {
     "data": {
      "text/plain": [
       "Model(tag=\"sel_lightgbm_45-85:d4hqzbtwi6eo47iu\", path=\"/home/zaki/bentoml/models/sel_lightgbm_45-85/d4hqzbtwi6eo47iu/\")"
      ]
     },
     "execution_count": 120,
     "metadata": {},
     "output_type": "execute_result"
    }
   ],
   "source": [
    "#import bentoml\n",
    "#bentoml.lightgbm.save_model(\"sel_lightgbm_45-85\",lgb_model)"
   ]
  },
  {
   "cell_type": "code",
   "execution_count": 63,
   "metadata": {},
   "outputs": [],
   "source": [
    "#model = bentoml.lightgbm.load_model(\"sel_lightgbm_45-85:rxculms26gpxt4po\")"
   ]
  },
  {
   "cell_type": "code",
   "execution_count": 72,
   "metadata": {},
   "outputs": [
    {
     "data": {
      "image/png": "[encoded data removed]",
      "text/plain": [
       "<Figure size 1500x1500 with 2 Axes>"
      ]
     },
     "metadata": {},
     "output_type": "display_data"
    }
   ],
   "source": [
    "import pandas as pd\n",
    "import numpy as np\n",
    "import json\n",
    "import geopandas as gpd\n",
    "from shapely.geometry import Point\n",
    "import matplotlib.pyplot as plt\n",
    "\n",
    "# Load GeoJSON data models/Cities/\n",
    "with open(\"models/Cities/Oran.json\", \"r\") as file:\n",
    "    geojson_data = json.load(file)\n",
    "features = [{'type': 'Feature', 'properties': {'name': name}, 'geometry': data} \n",
    "            for name, data in geojson_data.items()]\n",
    "gdf = gpd.GeoDataFrame.from_features(features)\n",
    "\n",
    "# Generate random points within a given polygon\n",
    "def generate_random_points_within_polygon(polygon, num_points):\n",
    "    minx, miny, maxx, maxy = polygon.bounds\n",
    "    points = []\n",
    "    while len(points) < num_points:\n",
    "        random_point = Point(np.random.uniform(minx, maxx), np.random.uniform(miny, maxy))\n",
    "        if random_point.within(polygon):\n",
    "            points.append(random_point)\n",
    "    return points\n",
    "\n",
    "# Generate predictions and compute means for each province\n",
    "province_means = {}\n",
    "for _, row in gdf.iterrows():\n",
    "    province_name = row['name']\n",
    "    province_geometry = row['geometry']\n",
    "    random_points = generate_random_points_within_polygon(province_geometry, 3000)\n",
    "    coords = np.array([(point.y, point.x) for point in random_points])\n",
    "    predictions = lgb_model.predict(coords)\n",
    "    province_means[province_name] = predictions.mean()\n",
    "\n",
    "# Add mean predictions to GeoDataFrame\n",
    "gdf['mean_prediction'] = gdf['name'].map(province_means)\n",
    "\n",
    "# Plot the map with province names and mean predictions\n",
    "fig, ax = plt.subplots(figsize=(15, 15))\n",
    "\n",
    "gdf.plot(column='mean_prediction', cmap='coolwarm', legend=True, ax=ax,  legend_kwds={'orientation': 'horizontal'})\n",
    "# Add province names as labels\n",
    "for _, row in gdf.iterrows():\n",
    "    ax.text(row['geometry'].centroid.x, row['geometry'].centroid.y, row['name'], fontsize=8)\n",
    "ax.set_title('Vent_Constantine : rant_lightgbm_45_85')\n",
    "plt.show()"
   ]
  },
  {
   "cell_type": "code",
   "execution_count": 512,
   "metadata": {},
   "outputs": [
    {
     "data": {
      "text/html": [
       "<div>\n",
       "<style scoped>\n",
       "    .dataframe tbody tr th:only-of-type {\n",
       "        vertical-align: middle;\n",
       "    }\n",
       "\n",
       "    .dataframe tbody tr th {\n",
       "        vertical-align: top;\n",
       "    }\n",
       "\n",
       "    .dataframe thead th {\n",
       "        text-align: right;\n",
       "    }\n",
       "</style>\n",
       "<table border=\"1\" class=\"dataframe\">\n",
       "  <thead>\n",
       "    <tr style=\"text-align: right;\">\n",
       "      <th></th>\n",
       "      <th>cty_name</th>\n",
       "      <th>adr_latitude</th>\n",
       "      <th>adr_longitude</th>\n",
       "      <th>stt_name</th>\n",
       "      <th>price_per_meter</th>\n",
       "    </tr>\n",
       "  </thead>\n",
       "  <tbody>\n",
       "  </tbody>\n",
       "</table>\n",
       "</div>"
      ],
      "text/plain": [
       "Empty DataFrame\n",
       "Columns: [cty_name, adr_latitude, adr_longitude, stt_name, price_per_meter]\n",
       "Index: []"
      ]
     },
     "execution_count": 512,
     "metadata": {},
     "output_type": "execute_result"
    }
   ],
   "source": [
    "df_2[df_2['cty_name']=='Bir el arch']"
   ]
  },
  {
   "cell_type": "code",
   "execution_count": null,
   "metadata": {},
   "outputs": [],
   "source": [
    "import folium\n",
    "from folium.plugins import MarkerCluster\n",
    "\n",
    "# Identifying city names that appear only once\n",
    "# Create a base map\n",
    "m_5 = folium.Map(location=[30.49941087260372, 2.50439793032094], tiles='cartodbpositron', zoom_start=6)\n",
    "\n",
    "# Create a MarkerCluster layer\n",
    "marker_cluster = MarkerCluster().add_to(m_5)\n",
    "\n",
    "# Iterate through the dataframe rows\n",
    "for index, row in df_3.iterrows():\n",
    "    popup_html = f\"\"\"\n",
    "    <b>Price/meter:</b> {row['price_per_meter']:.2f}<br>\n",
    "    <b>Superficie:</b> {row['superficie']}<br>\n",
    "    <b>Prdx_price:</b> {row['prdx_price']}<br>\n",
    "    <b>Pieces:</b> {row['price']}<br>\n",
    "    <b>Address_name:</b> {row['adr_address_01']}<br>\n",
    "    <b>Cty_name:</b> {row['cty_name']}<br>\n",
    "    <b>Stt_name:</b> {row['stt_name']}<br>\n",
    "    <b>Request_id:</b> {row['address_request_id']}<br>\n",
    "\n",
    "    \"\"\"\n",
    "    \n",
    "    folium.CircleMarker(\n",
    "        location=[row['adr_latitude'], row['adr_longitude']],\n",
    "        radius=5,\n",
    "        color='blue',  # You can change the color\n",
    "        fill=True,\n",
    "        fill_color='blue',  # You can change the fill color\n",
    "        fill_opacity=0.7,\n",
    "        popup=folium.Popup(html=popup_html, max_width=300)  # Set max_width for popup\n",
    "    ).add_to(marker_cluster)\n",
    "\n",
    "# Display the map\n",
    "m_5"
   ]
  },
  {
   "cell_type": "code",
   "execution_count": 39,
   "metadata": {},
   "outputs": [
    {
     "name": "stderr",
     "output_type": "stream",
     "text": [
      "/home/zaki/Desktop/transcription/lib/python3.10/site-packages/_distutils_hack/__init__.py:18: UserWarning: Distutils was imported before Setuptools, but importing Setuptools also replaces the `distutils` module in `sys.modules`. This may lead to undesirable behaviors or errors. To avoid these issues, avoid using distutils directly, ensure that setuptools is installed in the traditional way (e.g. not an editable install), and/or make sure that setuptools is always imported before distutils.\n",
      "  warnings.warn(\n",
      "/home/zaki/Desktop/transcription/lib/python3.10/site-packages/_distutils_hack/__init__.py:33: UserWarning: Setuptools is replacing distutils.\n",
      "  warnings.warn(\"Setuptools is replacing distutils.\")\n"
     ]
    }
   ],
   "source": [
    "from sklearn.neighbors import KNeighborsRegressor\n",
    "from sklearn.metrics import r2_score, mean_squared_error\n",
    "\n",
    "# Check if the 'sales_apartments' experiment exists, if not create it\n",
    "experiment_name = 'sales_apartments'\n",
    "experiment = mlflow.get_experiment_by_name(experiment_name)\n",
    "if experiment is None:\n",
    "    mlflow.create_experiment(experiment_name)\n",
    "    \n",
    "# Set the experiment to the one we're working on\n",
    "mlflow.set_experiment(experiment_name)\n",
    "\n",
    "# Make predictions on the test set\n",
    "knn = KNeighborsRegressor(metric='manhattan', n_neighbors=30,weights='uniform')\n",
    "knn.fit(X_train, y_train)\n",
    "\n",
    "# Make predictions on the test set\n",
    "y_pred = knn.predict(X_test)\n",
    "\n",
    "y_pred_train = knn.predict(X_train)\n",
    "# Calculate the metrics\n",
    "train_r2 = r2_score(y_train, y_pred_train)\n",
    "train_mse = mean_squared_error(y_train, y_pred_train)\n",
    "train_rmse = train_mse ** 0.5\n",
    "train_rrmse = train_rmse / np.mean(y_train)    \n",
    "train_rmsre = np.sqrt(np.mean(((y_pred_train - y_train) / y_train) ** 2))\n",
    "test_r2 = r2_score(y_test, y_pred)\n",
    "test_mse = mean_squared_error(y_test, y_pred)\n",
    "test_rmse = test_mse ** 0.5\n",
    "test_rrmse = train_rmse / np.mean(y_test)    \n",
    "test_rmsre = np.sqrt(np.mean(((y_pred - y_test) / y_test) ** 2))\n",
    "\n",
    "\n",
    "# Start a new run\n",
    "with mlflow.start_run():\n",
    "    # Log the parameters of your model\n",
    "    mlflow.log_params(knn.get_params())\n",
    "\n",
    "    # Log the metrics one by one\n",
    "    mlflow.log_metric(\"train_r2\", train_r2)\n",
    "    mlflow.log_metric(\"train_mse\", train_mse)\n",
    "    mlflow.log_metric(\"train_rmse\", train_rmse)\n",
    "    mlflow.log_metric(\"train_rrmse\", train_rrmse)\n",
    "    mlflow.log_metric(\"train_rmsre\", train_rmsre)\n",
    "    mlflow.log_metric(\"test_r2\", test_r2)\n",
    "    mlflow.log_metric(\"test_mse\", test_mse)\n",
    "    mlflow.log_metric(\"test_rmse\", test_rmse)\n",
    "    mlflow.log_metric(\"test_rrmse\", test_rrmse)\n",
    "    mlflow.log_metric(\"test_rmsre\", test_rmsre)\n",
    "\n",
    "    # Log the model as an artifact\n",
    "    mlflow.lightgbm.log_model(knn, \"knn_model\")"
   ]
  },
  {
   "cell_type": "code",
   "execution_count": null,
   "metadata": {},
   "outputs": [],
   "source": []
  },
  {
   "cell_type": "code",
   "execution_count": 116,
   "metadata": {},
   "outputs": [
    {
     "name": "stderr",
     "output_type": "stream",
     "text": [
      "/home/zaki/Desktop/transcription/lib/python3.10/site-packages/sklearn/base.py:464: UserWarning: X does not have valid feature names, but KNeighborsRegressor was fitted with feature names\n",
      "  warnings.warn(\n"
     ]
    },
    {
     "data": {
      "text/plain": [
       "array([233374.35264527])"
      ]
     },
     "execution_count": 116,
     "metadata": {},
     "output_type": "execute_result"
    }
   ],
   "source": [
    "knn.predict([[36.746364940834894, 3.0346702052759813]])"
   ]
  },
  {
   "cell_type": "code",
   "execution_count": 612,
   "metadata": {},
   "outputs": [
    {
     "name": "stderr",
     "output_type": "stream",
     "text": [
      "/home/zaki/Desktop/transcription/lib/python3.10/site-packages/_distutils_hack/__init__.py:18: UserWarning:\n",
      "\n",
      "Distutils was imported before Setuptools, but importing Setuptools also replaces the `distutils` module in `sys.modules`. This may lead to undesirable behaviors or errors. To avoid these issues, avoid using distutils directly, ensure that setuptools is installed in the traditional way (e.g. not an editable install), and/or make sure that setuptools is always imported before distutils.\n",
      "\n",
      "/home/zaki/Desktop/transcription/lib/python3.10/site-packages/_distutils_hack/__init__.py:33: UserWarning:\n",
      "\n",
      "Setuptools is replacing distutils.\n",
      "\n"
     ]
    }
   ],
   "source": [
    "import mlflow\n",
    "from catboost import CatBoostRegressor\n",
    "from sklearn.metrics import r2_score, mean_squared_error\n",
    "\n",
    "\n",
    "# Check if the 'sales_apartments' experiment exists, if not create it\n",
    "experiment_name = 'sales_apartments'\n",
    "experiment = mlflow.get_experiment_by_name(experiment_name)\n",
    "if experiment is None:\n",
    "    mlflow.create_experiment(experiment_name)\n",
    "    \n",
    "# Set the experiment to the one we're working on\n",
    "mlflow.set_experiment(experiment_name)\n",
    "\n",
    "# Define and fit your model\n",
    "cat_model = CatBoostRegressor(verbose=0,depth=10, iterations= 400, l2_leaf_reg= 3, learning_rate= 0.5)\n",
    "cat_model.fit(X_train, y_train)  # Corrected the target variable\n",
    "\n",
    "# Make predictions on the test set\n",
    "y_pred = cat_model.predict(X_test)\n",
    "\n",
    "# Calculate the metrics\n",
    "train_r2 = r2_score(y_train, cat_model.predict(X_train))\n",
    "train_mse = mean_squared_error(y_train, cat_model.predict(X_train))  # Corrected the prediction source\n",
    "train_rmse = train_mse ** 0.5\n",
    "test_r2 = r2_score(y_test, y_pred)\n",
    "test_mse = mean_squared_error(y_test, y_pred)\n",
    "test_rmse = test_mse ** 0.5\n",
    "\n",
    "\n",
    "# Start a new run\n",
    "with mlflow.start_run():\n",
    "    # Log the parameters of your model\n",
    "    mlflow.log_params(cat_model.get_params())\n",
    "     # Log the list of feature names\n",
    "    mlflow.log_param(\"feature_names\", \", \".join(X_train.columns))\n",
    "    # Log the metrics one by one\n",
    "    mlflow.log_metric(\"train_r2\", train_r2)\n",
    "    mlflow.log_metric(\"train_mse\", train_mse)\n",
    "    mlflow.log_metric(\"train_rmse\", train_rmse)\n",
    "    mlflow.log_metric(\"test_r2\", test_r2)\n",
    "    mlflow.log_metric(\"test_mse\", test_mse)\n",
    "    mlflow.log_metric(\"test_rmse\", test_rmse)\n",
    "\n",
    "    # Log the model as an artifact\n",
    "    mlflow.lightgbm.log_model(cat_model, \"model\")"
   ]
  },
  {
   "cell_type": "code",
   "execution_count": 108,
   "metadata": {},
   "outputs": [
    {
     "data": {
      "text/plain": [
       "array([235756.4764795])"
      ]
     },
     "execution_count": 108,
     "metadata": {},
     "output_type": "execute_result"
    }
   ],
   "source": [
    "cat_model.predict([[36.71913490887771, 3.205865543171459]])"
   ]
  }
 ],
 "metadata": {
  "kernelspec": {
   "display_name": "Python 3 (ipykernel)",
   "language": "python",
   "name": "python3"
  },
  "language_info": {
   "codemirror_mode": {
    "name": "ipython",
    "version": 3
   },
   "file_extension": ".py",
   "mimetype": "text/x-python",
   "name": "python",
   "nbconvert_exporter": "python",
   "pygments_lexer": "ipython3",
   "version": "3.10.12"
  }
 },
 "nbformat": 4,
 "nbformat_minor": 4
}
